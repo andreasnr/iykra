{
 "cells": [
  {
   "cell_type": "markdown",
   "metadata": {},
   "source": [
    "# Exercise 2\n",
    "\n",
    "**Author: Andreas Nugroho R**"
   ]
  },
  {
   "cell_type": "markdown",
   "metadata": {},
   "source": [
    "## Import and load data\n",
    "\n",
    "Data is imported and loaded. And then from the data, random sampling is applied to get 80% of the data."
   ]
  },
  {
   "cell_type": "code",
   "execution_count": 4,
   "metadata": {
    "ExecuteTime": {
     "end_time": "2019-10-25T09:36:14.687686Z",
     "start_time": "2019-10-25T09:36:14.684695Z"
    }
   },
   "outputs": [],
   "source": [
    "import numpy as np\n",
    "import pandas as pd"
   ]
  },
  {
   "cell_type": "code",
   "execution_count": 3,
   "metadata": {
    "ExecuteTime": {
     "end_time": "2019-10-25T09:36:08.820051Z",
     "start_time": "2019-10-25T09:36:02.839363Z"
    }
   },
   "outputs": [],
   "source": [
    "df = pd.read_excel('data loan.xlsx')"
   ]
  },
  {
   "cell_type": "code",
   "execution_count": 5,
   "metadata": {
    "ExecuteTime": {
     "end_time": "2019-10-25T09:36:46.308484Z",
     "start_time": "2019-10-25T09:36:46.280524Z"
    }
   },
   "outputs": [
    {
     "data": {
      "text/html": [
       "<div>\n",
       "<style scoped>\n",
       "    .dataframe tbody tr th:only-of-type {\n",
       "        vertical-align: middle;\n",
       "    }\n",
       "\n",
       "    .dataframe tbody tr th {\n",
       "        vertical-align: top;\n",
       "    }\n",
       "\n",
       "    .dataframe thead th {\n",
       "        text-align: right;\n",
       "    }\n",
       "</style>\n",
       "<table border=\"1\" class=\"dataframe\">\n",
       "  <thead>\n",
       "    <tr style=\"text-align: right;\">\n",
       "      <th></th>\n",
       "      <th>Kontrak</th>\n",
       "      <th>Tipe_Kendaraan</th>\n",
       "      <th>Pekerjaan</th>\n",
       "      <th>Area</th>\n",
       "      <th>Tenor</th>\n",
       "      <th>Bucket_Collectability</th>\n",
       "      <th>NPF</th>\n",
       "      <th>Total_AR</th>\n",
       "      <th>LTV</th>\n",
       "      <th>OTR</th>\n",
       "      <th>...</th>\n",
       "      <th>DP</th>\n",
       "      <th>AF</th>\n",
       "      <th>Tujuan</th>\n",
       "      <th>Pendidikan</th>\n",
       "      <th>Tanggungan</th>\n",
       "      <th>Status</th>\n",
       "      <th>Gender</th>\n",
       "      <th>Paket</th>\n",
       "      <th>Inflasi</th>\n",
       "      <th>Segmen</th>\n",
       "    </tr>\n",
       "  </thead>\n",
       "  <tbody>\n",
       "    <tr>\n",
       "      <th>0</th>\n",
       "      <td>1</td>\n",
       "      <td>OTHERS</td>\n",
       "      <td>Karyawan</td>\n",
       "      <td>Jawa</td>\n",
       "      <td>12</td>\n",
       "      <td>&gt;90 - 120 hari</td>\n",
       "      <td>Ya</td>\n",
       "      <td>2.763126</td>\n",
       "      <td>100.00</td>\n",
       "      <td>2.76</td>\n",
       "      <td>...</td>\n",
       "      <td>0.0</td>\n",
       "      <td>2.76</td>\n",
       "      <td>Private</td>\n",
       "      <td>Sarjana</td>\n",
       "      <td>Tidak ada</td>\n",
       "      <td>OTHERS</td>\n",
       "      <td>Laki-laki</td>\n",
       "      <td>Ya</td>\n",
       "      <td>3.58</td>\n",
       "      <td>Jasa &amp; Perdagangan</td>\n",
       "    </tr>\n",
       "    <tr>\n",
       "      <th>1</th>\n",
       "      <td>2</td>\n",
       "      <td>OTHERS</td>\n",
       "      <td>Wiraswasta</td>\n",
       "      <td>Jawa</td>\n",
       "      <td>12</td>\n",
       "      <td>0 - 30 hari</td>\n",
       "      <td>Tidak</td>\n",
       "      <td>2.805000</td>\n",
       "      <td>103.70</td>\n",
       "      <td>2.71</td>\n",
       "      <td>...</td>\n",
       "      <td>0.0</td>\n",
       "      <td>2.81</td>\n",
       "      <td>Private</td>\n",
       "      <td>Others</td>\n",
       "      <td>Tidak ada</td>\n",
       "      <td>MENIKAH</td>\n",
       "      <td>Laki-laki</td>\n",
       "      <td>Ya</td>\n",
       "      <td>3.58</td>\n",
       "      <td>Others</td>\n",
       "    </tr>\n",
       "    <tr>\n",
       "      <th>2</th>\n",
       "      <td>3</td>\n",
       "      <td>OTHERS</td>\n",
       "      <td>Wiraswasta</td>\n",
       "      <td>Jawa</td>\n",
       "      <td>12</td>\n",
       "      <td>0 - 30 hari</td>\n",
       "      <td>Tidak</td>\n",
       "      <td>3.104000</td>\n",
       "      <td>103.33</td>\n",
       "      <td>3.00</td>\n",
       "      <td>...</td>\n",
       "      <td>0.0</td>\n",
       "      <td>3.10</td>\n",
       "      <td>Private</td>\n",
       "      <td>Sarjana</td>\n",
       "      <td>Tidak ada</td>\n",
       "      <td>OTHERS</td>\n",
       "      <td>Perempuan</td>\n",
       "      <td>Ya</td>\n",
       "      <td>4.17</td>\n",
       "      <td>Others</td>\n",
       "    </tr>\n",
       "    <tr>\n",
       "      <th>3</th>\n",
       "      <td>4</td>\n",
       "      <td>OTHERS</td>\n",
       "      <td>Karyawan</td>\n",
       "      <td>Jawa</td>\n",
       "      <td>12</td>\n",
       "      <td>0 - 30 hari</td>\n",
       "      <td>Tidak</td>\n",
       "      <td>4.088100</td>\n",
       "      <td>102.51</td>\n",
       "      <td>3.98</td>\n",
       "      <td>...</td>\n",
       "      <td>0.0</td>\n",
       "      <td>4.08</td>\n",
       "      <td>Private</td>\n",
       "      <td>Sarjana</td>\n",
       "      <td>Ada</td>\n",
       "      <td>OTHERS</td>\n",
       "      <td>Laki-laki</td>\n",
       "      <td>Ya</td>\n",
       "      <td>3.61</td>\n",
       "      <td>Jasa &amp; Perdagangan</td>\n",
       "    </tr>\n",
       "    <tr>\n",
       "      <th>4</th>\n",
       "      <td>5</td>\n",
       "      <td>OTHERS</td>\n",
       "      <td>Karyawan</td>\n",
       "      <td>Jawa</td>\n",
       "      <td>12</td>\n",
       "      <td>0 - 30 hari</td>\n",
       "      <td>Tidak</td>\n",
       "      <td>4.607100</td>\n",
       "      <td>102.22</td>\n",
       "      <td>4.50</td>\n",
       "      <td>...</td>\n",
       "      <td>0.0</td>\n",
       "      <td>4.60</td>\n",
       "      <td>Private</td>\n",
       "      <td>Sarjana</td>\n",
       "      <td>Tidak ada</td>\n",
       "      <td>OTHERS</td>\n",
       "      <td>Perempuan</td>\n",
       "      <td>Ya</td>\n",
       "      <td>3.30</td>\n",
       "      <td>Jasa &amp; Perdagangan</td>\n",
       "    </tr>\n",
       "  </tbody>\n",
       "</table>\n",
       "<p>5 rows × 23 columns</p>\n",
       "</div>"
      ],
      "text/plain": [
       "   Kontrak Tipe_Kendaraan   Pekerjaan  Area  Tenor Bucket_Collectability  \\\n",
       "0        1         OTHERS    Karyawan  Jawa     12        >90 - 120 hari   \n",
       "1        2         OTHERS  Wiraswasta  Jawa     12           0 - 30 hari   \n",
       "2        3         OTHERS  Wiraswasta  Jawa     12           0 - 30 hari   \n",
       "3        4         OTHERS    Karyawan  Jawa     12           0 - 30 hari   \n",
       "4        5         OTHERS    Karyawan  Jawa     12           0 - 30 hari   \n",
       "\n",
       "     NPF  Total_AR     LTV   OTR  ...   DP    AF   Tujuan  Pendidikan  \\\n",
       "0     Ya  2.763126  100.00  2.76  ...  0.0  2.76  Private     Sarjana   \n",
       "1  Tidak  2.805000  103.70  2.71  ...  0.0  2.81  Private      Others   \n",
       "2  Tidak  3.104000  103.33  3.00  ...  0.0  3.10  Private     Sarjana   \n",
       "3  Tidak  4.088100  102.51  3.98  ...  0.0  4.08  Private     Sarjana   \n",
       "4  Tidak  4.607100  102.22  4.50  ...  0.0  4.60  Private     Sarjana   \n",
       "\n",
       "   Tanggungan   Status     Gender Paket Inflasi              Segmen  \n",
       "0   Tidak ada   OTHERS  Laki-laki    Ya    3.58  Jasa & Perdagangan  \n",
       "1   Tidak ada  MENIKAH  Laki-laki    Ya    3.58              Others  \n",
       "2   Tidak ada   OTHERS  Perempuan    Ya    4.17              Others  \n",
       "3         Ada   OTHERS  Laki-laki    Ya    3.61  Jasa & Perdagangan  \n",
       "4   Tidak ada   OTHERS  Perempuan    Ya    3.30  Jasa & Perdagangan  \n",
       "\n",
       "[5 rows x 23 columns]"
      ]
     },
     "execution_count": 5,
     "metadata": {},
     "output_type": "execute_result"
    }
   ],
   "source": [
    "df.head()"
   ]
  },
  {
   "cell_type": "code",
   "execution_count": 6,
   "metadata": {
    "ExecuteTime": {
     "end_time": "2019-10-25T09:41:27.634282Z",
     "start_time": "2019-10-25T09:41:27.629297Z"
    }
   },
   "outputs": [
    {
     "data": {
      "text/plain": [
       "(28293, 23)"
      ]
     },
     "execution_count": 6,
     "metadata": {},
     "output_type": "execute_result"
    }
   ],
   "source": [
    "df.shape"
   ]
  },
  {
   "cell_type": "code",
   "execution_count": 38,
   "metadata": {
    "ExecuteTime": {
     "end_time": "2019-10-25T09:57:06.925589Z",
     "start_time": "2019-10-25T09:57:06.896631Z"
    }
   },
   "outputs": [
    {
     "data": {
      "text/html": [
       "<div>\n",
       "<style scoped>\n",
       "    .dataframe tbody tr th:only-of-type {\n",
       "        vertical-align: middle;\n",
       "    }\n",
       "\n",
       "    .dataframe tbody tr th {\n",
       "        vertical-align: top;\n",
       "    }\n",
       "\n",
       "    .dataframe thead th {\n",
       "        text-align: right;\n",
       "    }\n",
       "</style>\n",
       "<table border=\"1\" class=\"dataframe\">\n",
       "  <thead>\n",
       "    <tr style=\"text-align: right;\">\n",
       "      <th></th>\n",
       "      <th>Kontrak</th>\n",
       "      <th>Tipe_Kendaraan</th>\n",
       "      <th>Pekerjaan</th>\n",
       "      <th>Area</th>\n",
       "      <th>Tenor</th>\n",
       "      <th>Bucket_Collectability</th>\n",
       "      <th>NPF</th>\n",
       "      <th>Total_AR</th>\n",
       "      <th>LTV</th>\n",
       "      <th>OTR</th>\n",
       "      <th>...</th>\n",
       "      <th>DP</th>\n",
       "      <th>AF</th>\n",
       "      <th>Tujuan</th>\n",
       "      <th>Pendidikan</th>\n",
       "      <th>Tanggungan</th>\n",
       "      <th>Status</th>\n",
       "      <th>Gender</th>\n",
       "      <th>Paket</th>\n",
       "      <th>Inflasi</th>\n",
       "      <th>Segmen</th>\n",
       "    </tr>\n",
       "  </thead>\n",
       "  <tbody>\n",
       "    <tr>\n",
       "      <th>21486</th>\n",
       "      <td>21487</td>\n",
       "      <td>TRUCK &amp; PICK UP</td>\n",
       "      <td>Wiraswasta</td>\n",
       "      <td>Jawa</td>\n",
       "      <td>48</td>\n",
       "      <td>0 - 30 hari</td>\n",
       "      <td>Tidak</td>\n",
       "      <td>251.952000</td>\n",
       "      <td>85.62</td>\n",
       "      <td>222.47</td>\n",
       "      <td>...</td>\n",
       "      <td>47.47</td>\n",
       "      <td>190.47</td>\n",
       "      <td>Others</td>\n",
       "      <td>Others</td>\n",
       "      <td>Ada</td>\n",
       "      <td>MENIKAH</td>\n",
       "      <td>Laki-laki</td>\n",
       "      <td>Tidak</td>\n",
       "      <td>3.61</td>\n",
       "      <td>Jasa &amp; Perdagangan</td>\n",
       "    </tr>\n",
       "    <tr>\n",
       "      <th>11269</th>\n",
       "      <td>11270</td>\n",
       "      <td>MINIBUS</td>\n",
       "      <td>Lainnya</td>\n",
       "      <td>Jawa</td>\n",
       "      <td>48</td>\n",
       "      <td>0 - 30 hari</td>\n",
       "      <td>Tidak</td>\n",
       "      <td>156.429993</td>\n",
       "      <td>73.03</td>\n",
       "      <td>173.30</td>\n",
       "      <td>...</td>\n",
       "      <td>64.54</td>\n",
       "      <td>126.56</td>\n",
       "      <td>Private</td>\n",
       "      <td>Others</td>\n",
       "      <td>Tidak ada</td>\n",
       "      <td>MENIKAH</td>\n",
       "      <td>Perempuan</td>\n",
       "      <td>Tidak</td>\n",
       "      <td>8.79</td>\n",
       "      <td>Others</td>\n",
       "    </tr>\n",
       "    <tr>\n",
       "      <th>1193</th>\n",
       "      <td>1194</td>\n",
       "      <td>LCGC</td>\n",
       "      <td>Wiraswasta</td>\n",
       "      <td>Sumatera</td>\n",
       "      <td>36</td>\n",
       "      <td>&gt;120 - 150 hari</td>\n",
       "      <td>Ya</td>\n",
       "      <td>148.595000</td>\n",
       "      <td>84.66</td>\n",
       "      <td>128.35</td>\n",
       "      <td>...</td>\n",
       "      <td>32.09</td>\n",
       "      <td>108.66</td>\n",
       "      <td>Private</td>\n",
       "      <td>Sarjana</td>\n",
       "      <td>Tidak ada</td>\n",
       "      <td>OTHERS</td>\n",
       "      <td>Perempuan</td>\n",
       "      <td>Ya</td>\n",
       "      <td>6.29</td>\n",
       "      <td>Others</td>\n",
       "    </tr>\n",
       "    <tr>\n",
       "      <th>20341</th>\n",
       "      <td>20342</td>\n",
       "      <td>MINIBUS</td>\n",
       "      <td>Wiraswasta</td>\n",
       "      <td>Others</td>\n",
       "      <td>60</td>\n",
       "      <td>&gt;30 - 90 hari</td>\n",
       "      <td>Tidak</td>\n",
       "      <td>234.179999</td>\n",
       "      <td>89.67</td>\n",
       "      <td>186.20</td>\n",
       "      <td>...</td>\n",
       "      <td>46.55</td>\n",
       "      <td>166.96</td>\n",
       "      <td>Others</td>\n",
       "      <td>Others</td>\n",
       "      <td>Ada</td>\n",
       "      <td>OTHERS</td>\n",
       "      <td>Laki-laki</td>\n",
       "      <td>Tidak</td>\n",
       "      <td>8.22</td>\n",
       "      <td>Jasa &amp; Perdagangan</td>\n",
       "    </tr>\n",
       "    <tr>\n",
       "      <th>10341</th>\n",
       "      <td>10342</td>\n",
       "      <td>MINIBUS</td>\n",
       "      <td>Lainnya</td>\n",
       "      <td>Sumatera</td>\n",
       "      <td>36</td>\n",
       "      <td>0 - 30 hari</td>\n",
       "      <td>Tidak</td>\n",
       "      <td>147.235945</td>\n",
       "      <td>68.24</td>\n",
       "      <td>184.50</td>\n",
       "      <td>...</td>\n",
       "      <td>74.11</td>\n",
       "      <td>125.90</td>\n",
       "      <td>Others</td>\n",
       "      <td>Sarjana</td>\n",
       "      <td>Tidak ada</td>\n",
       "      <td>MENIKAH</td>\n",
       "      <td>Laki-laki</td>\n",
       "      <td>Tidak</td>\n",
       "      <td>4.83</td>\n",
       "      <td>Jasa &amp; Perdagangan</td>\n",
       "    </tr>\n",
       "  </tbody>\n",
       "</table>\n",
       "<p>5 rows × 23 columns</p>\n",
       "</div>"
      ],
      "text/plain": [
       "       Kontrak   Tipe_Kendaraan   Pekerjaan      Area  Tenor  \\\n",
       "21486    21487  TRUCK & PICK UP  Wiraswasta      Jawa     48   \n",
       "11269    11270          MINIBUS     Lainnya      Jawa     48   \n",
       "1193      1194             LCGC  Wiraswasta  Sumatera     36   \n",
       "20341    20342          MINIBUS  Wiraswasta    Others     60   \n",
       "10341    10342          MINIBUS     Lainnya  Sumatera     36   \n",
       "\n",
       "      Bucket_Collectability    NPF    Total_AR    LTV     OTR  ...     DP  \\\n",
       "21486           0 - 30 hari  Tidak  251.952000  85.62  222.47  ...  47.47   \n",
       "11269           0 - 30 hari  Tidak  156.429993  73.03  173.30  ...  64.54   \n",
       "1193        >120 - 150 hari     Ya  148.595000  84.66  128.35  ...  32.09   \n",
       "20341         >30 - 90 hari  Tidak  234.179999  89.67  186.20  ...  46.55   \n",
       "10341           0 - 30 hari  Tidak  147.235945  68.24  184.50  ...  74.11   \n",
       "\n",
       "           AF   Tujuan  Pendidikan  Tanggungan   Status     Gender  Paket  \\\n",
       "21486  190.47   Others      Others         Ada  MENIKAH  Laki-laki  Tidak   \n",
       "11269  126.56  Private      Others   Tidak ada  MENIKAH  Perempuan  Tidak   \n",
       "1193   108.66  Private     Sarjana   Tidak ada   OTHERS  Perempuan     Ya   \n",
       "20341  166.96   Others      Others         Ada   OTHERS  Laki-laki  Tidak   \n",
       "10341  125.90   Others     Sarjana   Tidak ada  MENIKAH  Laki-laki  Tidak   \n",
       "\n",
       "      Inflasi              Segmen  \n",
       "21486    3.61  Jasa & Perdagangan  \n",
       "11269    8.79              Others  \n",
       "1193     6.29              Others  \n",
       "20341    8.22  Jasa & Perdagangan  \n",
       "10341    4.83  Jasa & Perdagangan  \n",
       "\n",
       "[5 rows x 23 columns]"
      ]
     },
     "execution_count": 38,
     "metadata": {},
     "output_type": "execute_result"
    }
   ],
   "source": [
    "df_sample = pd.DataFrame.sample(df, frac=0.8)\n",
    "df_sample.head()"
   ]
  },
  {
   "cell_type": "code",
   "execution_count": 46,
   "metadata": {
    "ExecuteTime": {
     "end_time": "2019-10-25T10:04:37.489842Z",
     "start_time": "2019-10-25T10:04:37.484856Z"
    }
   },
   "outputs": [
    {
     "data": {
      "text/plain": [
       "Index(['Kontrak', 'Tipe_Kendaraan', 'Pekerjaan', 'Area', 'Tenor',\n",
       "       'Bucket_Collectability', 'NPF', 'Total_AR', 'LTV', 'OTR', 'Age',\n",
       "       'Interest_Rate', 'Income', 'DP', 'AF', 'Tujuan', 'Pendidikan',\n",
       "       'Tanggungan', 'Status', 'Gender', 'Paket', 'Inflasi', 'Segmen'],\n",
       "      dtype='object')"
      ]
     },
     "execution_count": 46,
     "metadata": {},
     "output_type": "execute_result"
    }
   ],
   "source": [
    "df_sample.columns"
   ]
  },
  {
   "cell_type": "markdown",
   "metadata": {},
   "source": [
    "## Analysis"
   ]
  },
  {
   "cell_type": "markdown",
   "metadata": {},
   "source": [
    "### Data Exploration"
   ]
  },
  {
   "cell_type": "markdown",
   "metadata": {},
   "source": [
    "Some brief data explorations to better understand the data."
   ]
  },
  {
   "cell_type": "code",
   "execution_count": 48,
   "metadata": {
    "ExecuteTime": {
     "end_time": "2019-10-25T10:07:30.750614Z",
     "start_time": "2019-10-25T10:07:30.705689Z"
    }
   },
   "outputs": [
    {
     "data": {
      "text/html": [
       "<div>\n",
       "<style scoped>\n",
       "    .dataframe tbody tr th:only-of-type {\n",
       "        vertical-align: middle;\n",
       "    }\n",
       "\n",
       "    .dataframe tbody tr th {\n",
       "        vertical-align: top;\n",
       "    }\n",
       "\n",
       "    .dataframe thead th {\n",
       "        text-align: right;\n",
       "    }\n",
       "</style>\n",
       "<table border=\"1\" class=\"dataframe\">\n",
       "  <thead>\n",
       "    <tr style=\"text-align: right;\">\n",
       "      <th></th>\n",
       "      <th>Kontrak</th>\n",
       "      <th>Tenor</th>\n",
       "      <th>Total_AR</th>\n",
       "      <th>LTV</th>\n",
       "      <th>OTR</th>\n",
       "      <th>Age</th>\n",
       "      <th>Interest_Rate</th>\n",
       "      <th>Income</th>\n",
       "      <th>DP</th>\n",
       "      <th>AF</th>\n",
       "      <th>Inflasi</th>\n",
       "    </tr>\n",
       "  </thead>\n",
       "  <tbody>\n",
       "    <tr>\n",
       "      <th>count</th>\n",
       "      <td>22634.000000</td>\n",
       "      <td>22634.000000</td>\n",
       "      <td>22634.000000</td>\n",
       "      <td>22634.000000</td>\n",
       "      <td>22634.000000</td>\n",
       "      <td>22634.000000</td>\n",
       "      <td>22634.000000</td>\n",
       "      <td>22634.000000</td>\n",
       "      <td>22634.000000</td>\n",
       "      <td>22634.000000</td>\n",
       "      <td>22634.000000</td>\n",
       "    </tr>\n",
       "    <tr>\n",
       "      <th>mean</th>\n",
       "      <td>14116.886896</td>\n",
       "      <td>45.120085</td>\n",
       "      <td>214.645219</td>\n",
       "      <td>81.118246</td>\n",
       "      <td>204.300174</td>\n",
       "      <td>40.634046</td>\n",
       "      <td>13.747741</td>\n",
       "      <td>20.280419</td>\n",
       "      <td>59.151714</td>\n",
       "      <td>163.422028</td>\n",
       "      <td>5.531018</td>\n",
       "    </tr>\n",
       "    <tr>\n",
       "      <th>std</th>\n",
       "      <td>8168.758574</td>\n",
       "      <td>13.272206</td>\n",
       "      <td>88.348275</td>\n",
       "      <td>14.968910</td>\n",
       "      <td>80.002773</td>\n",
       "      <td>9.558665</td>\n",
       "      <td>3.512262</td>\n",
       "      <td>109.295490</td>\n",
       "      <td>40.818304</td>\n",
       "      <td>64.177110</td>\n",
       "      <td>1.797492</td>\n",
       "    </tr>\n",
       "    <tr>\n",
       "      <th>min</th>\n",
       "      <td>1.000000</td>\n",
       "      <td>12.000000</td>\n",
       "      <td>1.401000</td>\n",
       "      <td>5.110000</td>\n",
       "      <td>1.690000</td>\n",
       "      <td>19.000000</td>\n",
       "      <td>0.000000</td>\n",
       "      <td>1.000000</td>\n",
       "      <td>0.000000</td>\n",
       "      <td>1.390000</td>\n",
       "      <td>3.210000</td>\n",
       "    </tr>\n",
       "    <tr>\n",
       "      <th>25%</th>\n",
       "      <td>7044.750000</td>\n",
       "      <td>36.000000</td>\n",
       "      <td>156.244041</td>\n",
       "      <td>77.830000</td>\n",
       "      <td>157.800000</td>\n",
       "      <td>34.000000</td>\n",
       "      <td>11.190000</td>\n",
       "      <td>9.000000</td>\n",
       "      <td>37.740000</td>\n",
       "      <td>122.390000</td>\n",
       "      <td>3.830000</td>\n",
       "    </tr>\n",
       "    <tr>\n",
       "      <th>50%</th>\n",
       "      <td>14104.500000</td>\n",
       "      <td>48.000000</td>\n",
       "      <td>200.927999</td>\n",
       "      <td>83.820000</td>\n",
       "      <td>187.650000</td>\n",
       "      <td>40.000000</td>\n",
       "      <td>13.450000</td>\n",
       "      <td>15.000000</td>\n",
       "      <td>47.680000</td>\n",
       "      <td>153.100000</td>\n",
       "      <td>5.310000</td>\n",
       "    </tr>\n",
       "    <tr>\n",
       "      <th>75%</th>\n",
       "      <td>21193.750000</td>\n",
       "      <td>60.000000</td>\n",
       "      <td>266.078886</td>\n",
       "      <td>89.390000</td>\n",
       "      <td>230.687500</td>\n",
       "      <td>47.000000</td>\n",
       "      <td>16.210000</td>\n",
       "      <td>20.000000</td>\n",
       "      <td>68.000000</td>\n",
       "      <td>193.050000</td>\n",
       "      <td>7.250000</td>\n",
       "    </tr>\n",
       "    <tr>\n",
       "      <th>max</th>\n",
       "      <td>28291.000000</td>\n",
       "      <td>60.000000</td>\n",
       "      <td>1854.341300</td>\n",
       "      <td>111.830000</td>\n",
       "      <td>1508.400000</td>\n",
       "      <td>82.000000</td>\n",
       "      <td>27.400000</td>\n",
       "      <td>10000.000000</td>\n",
       "      <td>721.350000</td>\n",
       "      <td>1312.810000</td>\n",
       "      <td>8.790000</td>\n",
       "    </tr>\n",
       "  </tbody>\n",
       "</table>\n",
       "</div>"
      ],
      "text/plain": [
       "            Kontrak         Tenor      Total_AR           LTV           OTR  \\\n",
       "count  22634.000000  22634.000000  22634.000000  22634.000000  22634.000000   \n",
       "mean   14116.886896     45.120085    214.645219     81.118246    204.300174   \n",
       "std     8168.758574     13.272206     88.348275     14.968910     80.002773   \n",
       "min        1.000000     12.000000      1.401000      5.110000      1.690000   \n",
       "25%     7044.750000     36.000000    156.244041     77.830000    157.800000   \n",
       "50%    14104.500000     48.000000    200.927999     83.820000    187.650000   \n",
       "75%    21193.750000     60.000000    266.078886     89.390000    230.687500   \n",
       "max    28291.000000     60.000000   1854.341300    111.830000   1508.400000   \n",
       "\n",
       "                Age  Interest_Rate        Income            DP            AF  \\\n",
       "count  22634.000000   22634.000000  22634.000000  22634.000000  22634.000000   \n",
       "mean      40.634046      13.747741     20.280419     59.151714    163.422028   \n",
       "std        9.558665       3.512262    109.295490     40.818304     64.177110   \n",
       "min       19.000000       0.000000      1.000000      0.000000      1.390000   \n",
       "25%       34.000000      11.190000      9.000000     37.740000    122.390000   \n",
       "50%       40.000000      13.450000     15.000000     47.680000    153.100000   \n",
       "75%       47.000000      16.210000     20.000000     68.000000    193.050000   \n",
       "max       82.000000      27.400000  10000.000000    721.350000   1312.810000   \n",
       "\n",
       "            Inflasi  \n",
       "count  22634.000000  \n",
       "mean       5.531018  \n",
       "std        1.797492  \n",
       "min        3.210000  \n",
       "25%        3.830000  \n",
       "50%        5.310000  \n",
       "75%        7.250000  \n",
       "max        8.790000  "
      ]
     },
     "execution_count": 48,
     "metadata": {},
     "output_type": "execute_result"
    }
   ],
   "source": [
    "df_sample.describe()"
   ]
  },
  {
   "cell_type": "code",
   "execution_count": 49,
   "metadata": {
    "ExecuteTime": {
     "end_time": "2019-10-25T10:07:33.288444Z",
     "start_time": "2019-10-25T10:07:33.280466Z"
    }
   },
   "outputs": [
    {
     "data": {
      "text/plain": [
       "Karyawan      10953\n",
       "Wiraswasta    10172\n",
       "Lainnya        1509\n",
       "Name: Pekerjaan, dtype: int64"
      ]
     },
     "execution_count": 49,
     "metadata": {},
     "output_type": "execute_result"
    }
   ],
   "source": [
    "df_sample['Pekerjaan'].value_counts()"
   ]
  },
  {
   "cell_type": "code",
   "execution_count": 50,
   "metadata": {
    "ExecuteTime": {
     "end_time": "2019-10-25T10:07:33.654731Z",
     "start_time": "2019-10-25T10:07:33.646752Z"
    }
   },
   "outputs": [
    {
     "data": {
      "text/plain": [
       "0 - 30 hari        9950\n",
       "> 150 hari         8476\n",
       ">90 - 120 hari     1615\n",
       ">30 - 90 hari      1544\n",
       ">120 - 150 hari    1049\n",
       "Name: Bucket_Collectability, dtype: int64"
      ]
     },
     "execution_count": 50,
     "metadata": {},
     "output_type": "execute_result"
    }
   ],
   "source": [
    "df_sample['Bucket_Collectability'].value_counts()"
   ]
  },
  {
   "cell_type": "code",
   "execution_count": 51,
   "metadata": {
    "ExecuteTime": {
     "end_time": "2019-10-25T10:07:37.980198Z",
     "start_time": "2019-10-25T10:07:37.973217Z"
    }
   },
   "outputs": [
    {
     "data": {
      "text/plain": [
       "Private    19892\n",
       "Others      2742\n",
       "Name: Tujuan, dtype: int64"
      ]
     },
     "execution_count": 51,
     "metadata": {},
     "output_type": "execute_result"
    }
   ],
   "source": [
    "df_sample['Tujuan'].value_counts()"
   ]
  },
  {
   "cell_type": "code",
   "execution_count": 52,
   "metadata": {
    "ExecuteTime": {
     "end_time": "2019-10-25T10:07:41.495665Z",
     "start_time": "2019-10-25T10:07:41.488656Z"
    }
   },
   "outputs": [
    {
     "data": {
      "text/plain": [
       "Others     12852\n",
       "Sarjana     9782\n",
       "Name: Pendidikan, dtype: int64"
      ]
     },
     "execution_count": 52,
     "metadata": {},
     "output_type": "execute_result"
    }
   ],
   "source": [
    "df_sample['Pendidikan'].value_counts()"
   ]
  },
  {
   "cell_type": "code",
   "execution_count": 53,
   "metadata": {
    "ExecuteTime": {
     "end_time": "2019-10-25T10:07:45.835665Z",
     "start_time": "2019-10-25T10:07:45.827687Z"
    }
   },
   "outputs": [
    {
     "data": {
      "text/plain": [
       "Jasa & Perdagangan    12798\n",
       "Others                 9836\n",
       "Name: Segmen, dtype: int64"
      ]
     },
     "execution_count": 53,
     "metadata": {},
     "output_type": "execute_result"
    }
   ],
   "source": [
    "df_sample['Segmen'].value_counts()"
   ]
  },
  {
   "cell_type": "markdown",
   "metadata": {},
   "source": [
    "### Dummy Variables"
   ]
  },
  {
   "cell_type": "markdown",
   "metadata": {},
   "source": [
    "#### Pekerjaan"
   ]
  },
  {
   "cell_type": "code",
   "execution_count": 63,
   "metadata": {
    "ExecuteTime": {
     "end_time": "2019-10-25T10:34:17.815423Z",
     "start_time": "2019-10-25T10:34:17.809440Z"
    }
   },
   "outputs": [],
   "source": [
    "d_pekerjaan = pd.get_dummies(df_sample['Pekerjaan'], prefix = 'Kerja')"
   ]
  },
  {
   "cell_type": "code",
   "execution_count": 69,
   "metadata": {
    "ExecuteTime": {
     "end_time": "2019-10-25T15:26:12.241127Z",
     "start_time": "2019-10-25T15:26:12.225013Z"
    }
   },
   "outputs": [
    {
     "data": {
      "text/html": [
       "<div>\n",
       "<style scoped>\n",
       "    .dataframe tbody tr th:only-of-type {\n",
       "        vertical-align: middle;\n",
       "    }\n",
       "\n",
       "    .dataframe tbody tr th {\n",
       "        vertical-align: top;\n",
       "    }\n",
       "\n",
       "    .dataframe thead th {\n",
       "        text-align: right;\n",
       "    }\n",
       "</style>\n",
       "<table border=\"1\" class=\"dataframe\">\n",
       "  <thead>\n",
       "    <tr style=\"text-align: right;\">\n",
       "      <th></th>\n",
       "      <th>Kerja_Karyawan</th>\n",
       "      <th>Kerja_Lainnya</th>\n",
       "      <th>Kerja_Wiraswasta</th>\n",
       "    </tr>\n",
       "  </thead>\n",
       "  <tbody>\n",
       "    <tr>\n",
       "      <th>21486</th>\n",
       "      <td>0</td>\n",
       "      <td>0</td>\n",
       "      <td>1</td>\n",
       "    </tr>\n",
       "    <tr>\n",
       "      <th>11269</th>\n",
       "      <td>0</td>\n",
       "      <td>1</td>\n",
       "      <td>0</td>\n",
       "    </tr>\n",
       "    <tr>\n",
       "      <th>1193</th>\n",
       "      <td>0</td>\n",
       "      <td>0</td>\n",
       "      <td>1</td>\n",
       "    </tr>\n",
       "  </tbody>\n",
       "</table>\n",
       "</div>"
      ],
      "text/plain": [
       "       Kerja_Karyawan  Kerja_Lainnya  Kerja_Wiraswasta\n",
       "21486               0              0                 1\n",
       "11269               0              1                 0\n",
       "1193                0              0                 1"
      ]
     },
     "execution_count": 69,
     "metadata": {},
     "output_type": "execute_result"
    }
   ],
   "source": [
    "d_pekerjaan.head(3)"
   ]
  },
  {
   "cell_type": "code",
   "execution_count": 65,
   "metadata": {
    "ExecuteTime": {
     "end_time": "2019-10-25T10:34:26.470246Z",
     "start_time": "2019-10-25T10:34:26.465259Z"
    }
   },
   "outputs": [],
   "source": [
    "d_pekerjaan_others = d_pekerjaan.drop(columns='Kerja_Lainnya')"
   ]
  },
  {
   "cell_type": "code",
   "execution_count": 66,
   "metadata": {
    "ExecuteTime": {
     "end_time": "2019-10-25T10:34:30.432507Z",
     "start_time": "2019-10-25T10:34:30.425528Z"
    }
   },
   "outputs": [
    {
     "data": {
      "text/html": [
       "<div>\n",
       "<style scoped>\n",
       "    .dataframe tbody tr th:only-of-type {\n",
       "        vertical-align: middle;\n",
       "    }\n",
       "\n",
       "    .dataframe tbody tr th {\n",
       "        vertical-align: top;\n",
       "    }\n",
       "\n",
       "    .dataframe thead th {\n",
       "        text-align: right;\n",
       "    }\n",
       "</style>\n",
       "<table border=\"1\" class=\"dataframe\">\n",
       "  <thead>\n",
       "    <tr style=\"text-align: right;\">\n",
       "      <th></th>\n",
       "      <th>Kerja_Karyawan</th>\n",
       "      <th>Kerja_Wiraswasta</th>\n",
       "    </tr>\n",
       "  </thead>\n",
       "  <tbody>\n",
       "    <tr>\n",
       "      <th>21486</th>\n",
       "      <td>0</td>\n",
       "      <td>1</td>\n",
       "    </tr>\n",
       "    <tr>\n",
       "      <th>11269</th>\n",
       "      <td>0</td>\n",
       "      <td>0</td>\n",
       "    </tr>\n",
       "    <tr>\n",
       "      <th>1193</th>\n",
       "      <td>0</td>\n",
       "      <td>1</td>\n",
       "    </tr>\n",
       "  </tbody>\n",
       "</table>\n",
       "</div>"
      ],
      "text/plain": [
       "       Kerja_Karyawan  Kerja_Wiraswasta\n",
       "21486               0                 1\n",
       "11269               0                 0\n",
       "1193                0                 1"
      ]
     },
     "execution_count": 66,
     "metadata": {},
     "output_type": "execute_result"
    }
   ],
   "source": [
    "d_pekerjaan_others.head(3)"
   ]
  },
  {
   "cell_type": "code",
   "execution_count": 67,
   "metadata": {
    "ExecuteTime": {
     "end_time": "2019-10-25T10:35:13.942824Z",
     "start_time": "2019-10-25T10:35:13.932852Z"
    }
   },
   "outputs": [],
   "source": [
    "df_sample = pd.concat([df_sample, d_pekerjaan_others], axis = 1)"
   ]
  },
  {
   "cell_type": "code",
   "execution_count": 68,
   "metadata": {
    "ExecuteTime": {
     "end_time": "2019-10-25T10:35:22.559207Z",
     "start_time": "2019-10-25T10:35:22.538263Z"
    }
   },
   "outputs": [
    {
     "data": {
      "text/html": [
       "<div>\n",
       "<style scoped>\n",
       "    .dataframe tbody tr th:only-of-type {\n",
       "        vertical-align: middle;\n",
       "    }\n",
       "\n",
       "    .dataframe tbody tr th {\n",
       "        vertical-align: top;\n",
       "    }\n",
       "\n",
       "    .dataframe thead th {\n",
       "        text-align: right;\n",
       "    }\n",
       "</style>\n",
       "<table border=\"1\" class=\"dataframe\">\n",
       "  <thead>\n",
       "    <tr style=\"text-align: right;\">\n",
       "      <th></th>\n",
       "      <th>Kontrak</th>\n",
       "      <th>Tipe_Kendaraan</th>\n",
       "      <th>Pekerjaan</th>\n",
       "      <th>Area</th>\n",
       "      <th>Tenor</th>\n",
       "      <th>Bucket_Collectability</th>\n",
       "      <th>NPF</th>\n",
       "      <th>Total_AR</th>\n",
       "      <th>LTV</th>\n",
       "      <th>OTR</th>\n",
       "      <th>...</th>\n",
       "      <th>Tujuan</th>\n",
       "      <th>Pendidikan</th>\n",
       "      <th>Tanggungan</th>\n",
       "      <th>Status</th>\n",
       "      <th>Gender</th>\n",
       "      <th>Paket</th>\n",
       "      <th>Inflasi</th>\n",
       "      <th>Segmen</th>\n",
       "      <th>Kerja_Karyawan</th>\n",
       "      <th>Kerja_Wiraswasta</th>\n",
       "    </tr>\n",
       "  </thead>\n",
       "  <tbody>\n",
       "    <tr>\n",
       "      <th>21486</th>\n",
       "      <td>21487</td>\n",
       "      <td>TRUCK &amp; PICK UP</td>\n",
       "      <td>Wiraswasta</td>\n",
       "      <td>Jawa</td>\n",
       "      <td>48</td>\n",
       "      <td>0 - 30 hari</td>\n",
       "      <td>Tidak</td>\n",
       "      <td>251.952000</td>\n",
       "      <td>85.62</td>\n",
       "      <td>222.47</td>\n",
       "      <td>...</td>\n",
       "      <td>Others</td>\n",
       "      <td>Others</td>\n",
       "      <td>Ada</td>\n",
       "      <td>MENIKAH</td>\n",
       "      <td>Laki-laki</td>\n",
       "      <td>Tidak</td>\n",
       "      <td>3.61</td>\n",
       "      <td>Jasa &amp; Perdagangan</td>\n",
       "      <td>0</td>\n",
       "      <td>1</td>\n",
       "    </tr>\n",
       "    <tr>\n",
       "      <th>11269</th>\n",
       "      <td>11270</td>\n",
       "      <td>MINIBUS</td>\n",
       "      <td>Lainnya</td>\n",
       "      <td>Jawa</td>\n",
       "      <td>48</td>\n",
       "      <td>0 - 30 hari</td>\n",
       "      <td>Tidak</td>\n",
       "      <td>156.429993</td>\n",
       "      <td>73.03</td>\n",
       "      <td>173.30</td>\n",
       "      <td>...</td>\n",
       "      <td>Private</td>\n",
       "      <td>Others</td>\n",
       "      <td>Tidak ada</td>\n",
       "      <td>MENIKAH</td>\n",
       "      <td>Perempuan</td>\n",
       "      <td>Tidak</td>\n",
       "      <td>8.79</td>\n",
       "      <td>Others</td>\n",
       "      <td>0</td>\n",
       "      <td>0</td>\n",
       "    </tr>\n",
       "    <tr>\n",
       "      <th>1193</th>\n",
       "      <td>1194</td>\n",
       "      <td>LCGC</td>\n",
       "      <td>Wiraswasta</td>\n",
       "      <td>Sumatera</td>\n",
       "      <td>36</td>\n",
       "      <td>&gt;120 - 150 hari</td>\n",
       "      <td>Ya</td>\n",
       "      <td>148.595000</td>\n",
       "      <td>84.66</td>\n",
       "      <td>128.35</td>\n",
       "      <td>...</td>\n",
       "      <td>Private</td>\n",
       "      <td>Sarjana</td>\n",
       "      <td>Tidak ada</td>\n",
       "      <td>OTHERS</td>\n",
       "      <td>Perempuan</td>\n",
       "      <td>Ya</td>\n",
       "      <td>6.29</td>\n",
       "      <td>Others</td>\n",
       "      <td>0</td>\n",
       "      <td>1</td>\n",
       "    </tr>\n",
       "    <tr>\n",
       "      <th>20341</th>\n",
       "      <td>20342</td>\n",
       "      <td>MINIBUS</td>\n",
       "      <td>Wiraswasta</td>\n",
       "      <td>Others</td>\n",
       "      <td>60</td>\n",
       "      <td>&gt;30 - 90 hari</td>\n",
       "      <td>Tidak</td>\n",
       "      <td>234.179999</td>\n",
       "      <td>89.67</td>\n",
       "      <td>186.20</td>\n",
       "      <td>...</td>\n",
       "      <td>Others</td>\n",
       "      <td>Others</td>\n",
       "      <td>Ada</td>\n",
       "      <td>OTHERS</td>\n",
       "      <td>Laki-laki</td>\n",
       "      <td>Tidak</td>\n",
       "      <td>8.22</td>\n",
       "      <td>Jasa &amp; Perdagangan</td>\n",
       "      <td>0</td>\n",
       "      <td>1</td>\n",
       "    </tr>\n",
       "    <tr>\n",
       "      <th>10341</th>\n",
       "      <td>10342</td>\n",
       "      <td>MINIBUS</td>\n",
       "      <td>Lainnya</td>\n",
       "      <td>Sumatera</td>\n",
       "      <td>36</td>\n",
       "      <td>0 - 30 hari</td>\n",
       "      <td>Tidak</td>\n",
       "      <td>147.235945</td>\n",
       "      <td>68.24</td>\n",
       "      <td>184.50</td>\n",
       "      <td>...</td>\n",
       "      <td>Others</td>\n",
       "      <td>Sarjana</td>\n",
       "      <td>Tidak ada</td>\n",
       "      <td>MENIKAH</td>\n",
       "      <td>Laki-laki</td>\n",
       "      <td>Tidak</td>\n",
       "      <td>4.83</td>\n",
       "      <td>Jasa &amp; Perdagangan</td>\n",
       "      <td>0</td>\n",
       "      <td>0</td>\n",
       "    </tr>\n",
       "  </tbody>\n",
       "</table>\n",
       "<p>5 rows × 25 columns</p>\n",
       "</div>"
      ],
      "text/plain": [
       "       Kontrak   Tipe_Kendaraan   Pekerjaan      Area  Tenor  \\\n",
       "21486    21487  TRUCK & PICK UP  Wiraswasta      Jawa     48   \n",
       "11269    11270          MINIBUS     Lainnya      Jawa     48   \n",
       "1193      1194             LCGC  Wiraswasta  Sumatera     36   \n",
       "20341    20342          MINIBUS  Wiraswasta    Others     60   \n",
       "10341    10342          MINIBUS     Lainnya  Sumatera     36   \n",
       "\n",
       "      Bucket_Collectability    NPF    Total_AR    LTV     OTR  ...   Tujuan  \\\n",
       "21486           0 - 30 hari  Tidak  251.952000  85.62  222.47  ...   Others   \n",
       "11269           0 - 30 hari  Tidak  156.429993  73.03  173.30  ...  Private   \n",
       "1193        >120 - 150 hari     Ya  148.595000  84.66  128.35  ...  Private   \n",
       "20341         >30 - 90 hari  Tidak  234.179999  89.67  186.20  ...   Others   \n",
       "10341           0 - 30 hari  Tidak  147.235945  68.24  184.50  ...   Others   \n",
       "\n",
       "       Pendidikan  Tanggungan   Status     Gender  Paket Inflasi  \\\n",
       "21486      Others         Ada  MENIKAH  Laki-laki  Tidak    3.61   \n",
       "11269      Others   Tidak ada  MENIKAH  Perempuan  Tidak    8.79   \n",
       "1193      Sarjana   Tidak ada   OTHERS  Perempuan     Ya    6.29   \n",
       "20341      Others         Ada   OTHERS  Laki-laki  Tidak    8.22   \n",
       "10341     Sarjana   Tidak ada  MENIKAH  Laki-laki  Tidak    4.83   \n",
       "\n",
       "                   Segmen Kerja_Karyawan Kerja_Wiraswasta  \n",
       "21486  Jasa & Perdagangan              0                1  \n",
       "11269              Others              0                0  \n",
       "1193               Others              0                1  \n",
       "20341  Jasa & Perdagangan              0                1  \n",
       "10341  Jasa & Perdagangan              0                0  \n",
       "\n",
       "[5 rows x 25 columns]"
      ]
     },
     "execution_count": 68,
     "metadata": {},
     "output_type": "execute_result"
    }
   ],
   "source": [
    "df_sample.head()"
   ]
  },
  {
   "cell_type": "markdown",
   "metadata": {},
   "source": [
    "#### Pendidikan"
   ]
  },
  {
   "cell_type": "code",
   "execution_count": 70,
   "metadata": {
    "ExecuteTime": {
     "end_time": "2019-10-25T15:26:17.508695Z",
     "start_time": "2019-10-25T15:26:17.496304Z"
    }
   },
   "outputs": [],
   "source": [
    "d_pendidikan = pd.get_dummies(df_sample['Pendidikan'], prefix = 'Pendidikan')"
   ]
  },
  {
   "cell_type": "code",
   "execution_count": 71,
   "metadata": {
    "ExecuteTime": {
     "end_time": "2019-10-25T15:26:27.506498Z",
     "start_time": "2019-10-25T15:26:27.493698Z"
    }
   },
   "outputs": [
    {
     "data": {
      "text/html": [
       "<div>\n",
       "<style scoped>\n",
       "    .dataframe tbody tr th:only-of-type {\n",
       "        vertical-align: middle;\n",
       "    }\n",
       "\n",
       "    .dataframe tbody tr th {\n",
       "        vertical-align: top;\n",
       "    }\n",
       "\n",
       "    .dataframe thead th {\n",
       "        text-align: right;\n",
       "    }\n",
       "</style>\n",
       "<table border=\"1\" class=\"dataframe\">\n",
       "  <thead>\n",
       "    <tr style=\"text-align: right;\">\n",
       "      <th></th>\n",
       "      <th>Pendidikan_Others</th>\n",
       "      <th>Pendidikan_Sarjana</th>\n",
       "    </tr>\n",
       "  </thead>\n",
       "  <tbody>\n",
       "    <tr>\n",
       "      <th>21486</th>\n",
       "      <td>1</td>\n",
       "      <td>0</td>\n",
       "    </tr>\n",
       "    <tr>\n",
       "      <th>11269</th>\n",
       "      <td>1</td>\n",
       "      <td>0</td>\n",
       "    </tr>\n",
       "    <tr>\n",
       "      <th>1193</th>\n",
       "      <td>0</td>\n",
       "      <td>1</td>\n",
       "    </tr>\n",
       "    <tr>\n",
       "      <th>20341</th>\n",
       "      <td>1</td>\n",
       "      <td>0</td>\n",
       "    </tr>\n",
       "    <tr>\n",
       "      <th>10341</th>\n",
       "      <td>0</td>\n",
       "      <td>1</td>\n",
       "    </tr>\n",
       "  </tbody>\n",
       "</table>\n",
       "</div>"
      ],
      "text/plain": [
       "       Pendidikan_Others  Pendidikan_Sarjana\n",
       "21486                  1                   0\n",
       "11269                  1                   0\n",
       "1193                   0                   1\n",
       "20341                  1                   0\n",
       "10341                  0                   1"
      ]
     },
     "execution_count": 71,
     "metadata": {},
     "output_type": "execute_result"
    }
   ],
   "source": [
    "d_pendidikan.head()"
   ]
  },
  {
   "cell_type": "code",
   "execution_count": 72,
   "metadata": {
    "ExecuteTime": {
     "end_time": "2019-10-25T15:26:33.418871Z",
     "start_time": "2019-10-25T15:26:33.410167Z"
    }
   },
   "outputs": [],
   "source": [
    "d_pendidikan_others = d_pendidikan.drop(columns='Pendidikan_Others')"
   ]
  },
  {
   "cell_type": "code",
   "execution_count": 73,
   "metadata": {
    "ExecuteTime": {
     "end_time": "2019-10-25T15:26:50.832903Z",
     "start_time": "2019-10-25T15:26:50.819279Z"
    }
   },
   "outputs": [
    {
     "data": {
      "text/html": [
       "<div>\n",
       "<style scoped>\n",
       "    .dataframe tbody tr th:only-of-type {\n",
       "        vertical-align: middle;\n",
       "    }\n",
       "\n",
       "    .dataframe tbody tr th {\n",
       "        vertical-align: top;\n",
       "    }\n",
       "\n",
       "    .dataframe thead th {\n",
       "        text-align: right;\n",
       "    }\n",
       "</style>\n",
       "<table border=\"1\" class=\"dataframe\">\n",
       "  <thead>\n",
       "    <tr style=\"text-align: right;\">\n",
       "      <th></th>\n",
       "      <th>Pendidikan_Sarjana</th>\n",
       "    </tr>\n",
       "  </thead>\n",
       "  <tbody>\n",
       "    <tr>\n",
       "      <th>21486</th>\n",
       "      <td>0</td>\n",
       "    </tr>\n",
       "    <tr>\n",
       "      <th>11269</th>\n",
       "      <td>0</td>\n",
       "    </tr>\n",
       "    <tr>\n",
       "      <th>1193</th>\n",
       "      <td>1</td>\n",
       "    </tr>\n",
       "  </tbody>\n",
       "</table>\n",
       "</div>"
      ],
      "text/plain": [
       "       Pendidikan_Sarjana\n",
       "21486                   0\n",
       "11269                   0\n",
       "1193                    1"
      ]
     },
     "execution_count": 73,
     "metadata": {},
     "output_type": "execute_result"
    }
   ],
   "source": [
    "d_pendidikan_others.head(3)"
   ]
  },
  {
   "cell_type": "code",
   "execution_count": 74,
   "metadata": {
    "ExecuteTime": {
     "end_time": "2019-10-25T15:27:19.562808Z",
     "start_time": "2019-10-25T15:27:19.530175Z"
    }
   },
   "outputs": [],
   "source": [
    "df_sample = pd.concat([df_sample, d_pendidikan_others], axis = 1)"
   ]
  },
  {
   "cell_type": "code",
   "execution_count": 75,
   "metadata": {
    "ExecuteTime": {
     "end_time": "2019-10-25T15:27:29.617894Z",
     "start_time": "2019-10-25T15:27:29.570661Z"
    }
   },
   "outputs": [
    {
     "data": {
      "text/html": [
       "<div>\n",
       "<style scoped>\n",
       "    .dataframe tbody tr th:only-of-type {\n",
       "        vertical-align: middle;\n",
       "    }\n",
       "\n",
       "    .dataframe tbody tr th {\n",
       "        vertical-align: top;\n",
       "    }\n",
       "\n",
       "    .dataframe thead th {\n",
       "        text-align: right;\n",
       "    }\n",
       "</style>\n",
       "<table border=\"1\" class=\"dataframe\">\n",
       "  <thead>\n",
       "    <tr style=\"text-align: right;\">\n",
       "      <th></th>\n",
       "      <th>Kontrak</th>\n",
       "      <th>Tipe_Kendaraan</th>\n",
       "      <th>Pekerjaan</th>\n",
       "      <th>Area</th>\n",
       "      <th>Tenor</th>\n",
       "      <th>Bucket_Collectability</th>\n",
       "      <th>NPF</th>\n",
       "      <th>Total_AR</th>\n",
       "      <th>LTV</th>\n",
       "      <th>OTR</th>\n",
       "      <th>...</th>\n",
       "      <th>Pendidikan</th>\n",
       "      <th>Tanggungan</th>\n",
       "      <th>Status</th>\n",
       "      <th>Gender</th>\n",
       "      <th>Paket</th>\n",
       "      <th>Inflasi</th>\n",
       "      <th>Segmen</th>\n",
       "      <th>Kerja_Karyawan</th>\n",
       "      <th>Kerja_Wiraswasta</th>\n",
       "      <th>Pendidikan_Sarjana</th>\n",
       "    </tr>\n",
       "  </thead>\n",
       "  <tbody>\n",
       "    <tr>\n",
       "      <th>21486</th>\n",
       "      <td>21487</td>\n",
       "      <td>TRUCK &amp; PICK UP</td>\n",
       "      <td>Wiraswasta</td>\n",
       "      <td>Jawa</td>\n",
       "      <td>48</td>\n",
       "      <td>0 - 30 hari</td>\n",
       "      <td>Tidak</td>\n",
       "      <td>251.952000</td>\n",
       "      <td>85.62</td>\n",
       "      <td>222.47</td>\n",
       "      <td>...</td>\n",
       "      <td>Others</td>\n",
       "      <td>Ada</td>\n",
       "      <td>MENIKAH</td>\n",
       "      <td>Laki-laki</td>\n",
       "      <td>Tidak</td>\n",
       "      <td>3.61</td>\n",
       "      <td>Jasa &amp; Perdagangan</td>\n",
       "      <td>0</td>\n",
       "      <td>1</td>\n",
       "      <td>0</td>\n",
       "    </tr>\n",
       "    <tr>\n",
       "      <th>11269</th>\n",
       "      <td>11270</td>\n",
       "      <td>MINIBUS</td>\n",
       "      <td>Lainnya</td>\n",
       "      <td>Jawa</td>\n",
       "      <td>48</td>\n",
       "      <td>0 - 30 hari</td>\n",
       "      <td>Tidak</td>\n",
       "      <td>156.429993</td>\n",
       "      <td>73.03</td>\n",
       "      <td>173.30</td>\n",
       "      <td>...</td>\n",
       "      <td>Others</td>\n",
       "      <td>Tidak ada</td>\n",
       "      <td>MENIKAH</td>\n",
       "      <td>Perempuan</td>\n",
       "      <td>Tidak</td>\n",
       "      <td>8.79</td>\n",
       "      <td>Others</td>\n",
       "      <td>0</td>\n",
       "      <td>0</td>\n",
       "      <td>0</td>\n",
       "    </tr>\n",
       "    <tr>\n",
       "      <th>1193</th>\n",
       "      <td>1194</td>\n",
       "      <td>LCGC</td>\n",
       "      <td>Wiraswasta</td>\n",
       "      <td>Sumatera</td>\n",
       "      <td>36</td>\n",
       "      <td>&gt;120 - 150 hari</td>\n",
       "      <td>Ya</td>\n",
       "      <td>148.595000</td>\n",
       "      <td>84.66</td>\n",
       "      <td>128.35</td>\n",
       "      <td>...</td>\n",
       "      <td>Sarjana</td>\n",
       "      <td>Tidak ada</td>\n",
       "      <td>OTHERS</td>\n",
       "      <td>Perempuan</td>\n",
       "      <td>Ya</td>\n",
       "      <td>6.29</td>\n",
       "      <td>Others</td>\n",
       "      <td>0</td>\n",
       "      <td>1</td>\n",
       "      <td>1</td>\n",
       "    </tr>\n",
       "  </tbody>\n",
       "</table>\n",
       "<p>3 rows × 26 columns</p>\n",
       "</div>"
      ],
      "text/plain": [
       "       Kontrak   Tipe_Kendaraan   Pekerjaan      Area  Tenor  \\\n",
       "21486    21487  TRUCK & PICK UP  Wiraswasta      Jawa     48   \n",
       "11269    11270          MINIBUS     Lainnya      Jawa     48   \n",
       "1193      1194             LCGC  Wiraswasta  Sumatera     36   \n",
       "\n",
       "      Bucket_Collectability    NPF    Total_AR    LTV     OTR  ...  \\\n",
       "21486           0 - 30 hari  Tidak  251.952000  85.62  222.47  ...   \n",
       "11269           0 - 30 hari  Tidak  156.429993  73.03  173.30  ...   \n",
       "1193        >120 - 150 hari     Ya  148.595000  84.66  128.35  ...   \n",
       "\n",
       "       Pendidikan  Tanggungan   Status     Gender  Paket Inflasi  \\\n",
       "21486      Others         Ada  MENIKAH  Laki-laki  Tidak    3.61   \n",
       "11269      Others   Tidak ada  MENIKAH  Perempuan  Tidak    8.79   \n",
       "1193      Sarjana   Tidak ada   OTHERS  Perempuan     Ya    6.29   \n",
       "\n",
       "                   Segmen Kerja_Karyawan Kerja_Wiraswasta Pendidikan_Sarjana  \n",
       "21486  Jasa & Perdagangan              0                1                  0  \n",
       "11269              Others              0                0                  0  \n",
       "1193               Others              0                1                  1  \n",
       "\n",
       "[3 rows x 26 columns]"
      ]
     },
     "execution_count": 75,
     "metadata": {},
     "output_type": "execute_result"
    }
   ],
   "source": [
    "df_sample.head(3)"
   ]
  },
  {
   "cell_type": "markdown",
   "metadata": {},
   "source": [
    "#### NPF"
   ]
  },
  {
   "cell_type": "code",
   "execution_count": 107,
   "metadata": {
    "ExecuteTime": {
     "end_time": "2019-10-25T15:53:51.418378Z",
     "start_time": "2019-10-25T15:53:51.402340Z"
    }
   },
   "outputs": [],
   "source": [
    "d_npf = pd.get_dummies(df_sample['NPF'], prefix = 'NPF')"
   ]
  },
  {
   "cell_type": "code",
   "execution_count": 108,
   "metadata": {
    "ExecuteTime": {
     "end_time": "2019-10-25T15:54:06.735801Z",
     "start_time": "2019-10-25T15:54:06.720938Z"
    }
   },
   "outputs": [
    {
     "data": {
      "text/html": [
       "<div>\n",
       "<style scoped>\n",
       "    .dataframe tbody tr th:only-of-type {\n",
       "        vertical-align: middle;\n",
       "    }\n",
       "\n",
       "    .dataframe tbody tr th {\n",
       "        vertical-align: top;\n",
       "    }\n",
       "\n",
       "    .dataframe thead th {\n",
       "        text-align: right;\n",
       "    }\n",
       "</style>\n",
       "<table border=\"1\" class=\"dataframe\">\n",
       "  <thead>\n",
       "    <tr style=\"text-align: right;\">\n",
       "      <th></th>\n",
       "      <th>NPF_Tidak</th>\n",
       "      <th>NPF_Ya</th>\n",
       "    </tr>\n",
       "  </thead>\n",
       "  <tbody>\n",
       "    <tr>\n",
       "      <th>21486</th>\n",
       "      <td>1</td>\n",
       "      <td>0</td>\n",
       "    </tr>\n",
       "    <tr>\n",
       "      <th>11269</th>\n",
       "      <td>1</td>\n",
       "      <td>0</td>\n",
       "    </tr>\n",
       "    <tr>\n",
       "      <th>1193</th>\n",
       "      <td>0</td>\n",
       "      <td>1</td>\n",
       "    </tr>\n",
       "    <tr>\n",
       "      <th>20341</th>\n",
       "      <td>1</td>\n",
       "      <td>0</td>\n",
       "    </tr>\n",
       "    <tr>\n",
       "      <th>10341</th>\n",
       "      <td>1</td>\n",
       "      <td>0</td>\n",
       "    </tr>\n",
       "  </tbody>\n",
       "</table>\n",
       "</div>"
      ],
      "text/plain": [
       "       NPF_Tidak  NPF_Ya\n",
       "21486          1       0\n",
       "11269          1       0\n",
       "1193           0       1\n",
       "20341          1       0\n",
       "10341          1       0"
      ]
     },
     "execution_count": 108,
     "metadata": {},
     "output_type": "execute_result"
    }
   ],
   "source": [
    "d_npf.head()"
   ]
  },
  {
   "cell_type": "code",
   "execution_count": 109,
   "metadata": {
    "ExecuteTime": {
     "end_time": "2019-10-25T15:54:55.035522Z",
     "start_time": "2019-10-25T15:54:55.026243Z"
    }
   },
   "outputs": [],
   "source": [
    "d_npf_tidak = d_npf.drop(columns='NPF_Tidak')"
   ]
  },
  {
   "cell_type": "code",
   "execution_count": 110,
   "metadata": {
    "ExecuteTime": {
     "end_time": "2019-10-25T15:55:14.953173Z",
     "start_time": "2019-10-25T15:55:14.918764Z"
    }
   },
   "outputs": [],
   "source": [
    "df_sample = pd.concat([df_sample, d_npf_tidak], axis = 1)"
   ]
  },
  {
   "cell_type": "code",
   "execution_count": 111,
   "metadata": {
    "ExecuteTime": {
     "end_time": "2019-10-25T15:55:30.339682Z",
     "start_time": "2019-10-25T15:55:30.298676Z"
    }
   },
   "outputs": [
    {
     "data": {
      "text/html": [
       "<div>\n",
       "<style scoped>\n",
       "    .dataframe tbody tr th:only-of-type {\n",
       "        vertical-align: middle;\n",
       "    }\n",
       "\n",
       "    .dataframe tbody tr th {\n",
       "        vertical-align: top;\n",
       "    }\n",
       "\n",
       "    .dataframe thead th {\n",
       "        text-align: right;\n",
       "    }\n",
       "</style>\n",
       "<table border=\"1\" class=\"dataframe\">\n",
       "  <thead>\n",
       "    <tr style=\"text-align: right;\">\n",
       "      <th></th>\n",
       "      <th>Kontrak</th>\n",
       "      <th>Tipe_Kendaraan</th>\n",
       "      <th>Pekerjaan</th>\n",
       "      <th>Area</th>\n",
       "      <th>Tenor</th>\n",
       "      <th>Bucket_Collectability</th>\n",
       "      <th>NPF</th>\n",
       "      <th>Total_AR</th>\n",
       "      <th>LTV</th>\n",
       "      <th>OTR</th>\n",
       "      <th>...</th>\n",
       "      <th>Tanggungan</th>\n",
       "      <th>Status</th>\n",
       "      <th>Gender</th>\n",
       "      <th>Paket</th>\n",
       "      <th>Inflasi</th>\n",
       "      <th>Segmen</th>\n",
       "      <th>Kerja_Karyawan</th>\n",
       "      <th>Kerja_Wiraswasta</th>\n",
       "      <th>Pendidikan_Sarjana</th>\n",
       "      <th>NPF_Ya</th>\n",
       "    </tr>\n",
       "  </thead>\n",
       "  <tbody>\n",
       "    <tr>\n",
       "      <th>21486</th>\n",
       "      <td>21487</td>\n",
       "      <td>TRUCK &amp; PICK UP</td>\n",
       "      <td>Wiraswasta</td>\n",
       "      <td>Jawa</td>\n",
       "      <td>48</td>\n",
       "      <td>0 - 30 hari</td>\n",
       "      <td>Tidak</td>\n",
       "      <td>251.952000</td>\n",
       "      <td>85.62</td>\n",
       "      <td>222.47</td>\n",
       "      <td>...</td>\n",
       "      <td>Ada</td>\n",
       "      <td>MENIKAH</td>\n",
       "      <td>Laki-laki</td>\n",
       "      <td>Tidak</td>\n",
       "      <td>3.61</td>\n",
       "      <td>Jasa &amp; Perdagangan</td>\n",
       "      <td>0</td>\n",
       "      <td>1</td>\n",
       "      <td>0</td>\n",
       "      <td>0</td>\n",
       "    </tr>\n",
       "    <tr>\n",
       "      <th>11269</th>\n",
       "      <td>11270</td>\n",
       "      <td>MINIBUS</td>\n",
       "      <td>Lainnya</td>\n",
       "      <td>Jawa</td>\n",
       "      <td>48</td>\n",
       "      <td>0 - 30 hari</td>\n",
       "      <td>Tidak</td>\n",
       "      <td>156.429993</td>\n",
       "      <td>73.03</td>\n",
       "      <td>173.30</td>\n",
       "      <td>...</td>\n",
       "      <td>Tidak ada</td>\n",
       "      <td>MENIKAH</td>\n",
       "      <td>Perempuan</td>\n",
       "      <td>Tidak</td>\n",
       "      <td>8.79</td>\n",
       "      <td>Others</td>\n",
       "      <td>0</td>\n",
       "      <td>0</td>\n",
       "      <td>0</td>\n",
       "      <td>0</td>\n",
       "    </tr>\n",
       "    <tr>\n",
       "      <th>1193</th>\n",
       "      <td>1194</td>\n",
       "      <td>LCGC</td>\n",
       "      <td>Wiraswasta</td>\n",
       "      <td>Sumatera</td>\n",
       "      <td>36</td>\n",
       "      <td>&gt;120 - 150 hari</td>\n",
       "      <td>Ya</td>\n",
       "      <td>148.595000</td>\n",
       "      <td>84.66</td>\n",
       "      <td>128.35</td>\n",
       "      <td>...</td>\n",
       "      <td>Tidak ada</td>\n",
       "      <td>OTHERS</td>\n",
       "      <td>Perempuan</td>\n",
       "      <td>Ya</td>\n",
       "      <td>6.29</td>\n",
       "      <td>Others</td>\n",
       "      <td>0</td>\n",
       "      <td>1</td>\n",
       "      <td>1</td>\n",
       "      <td>1</td>\n",
       "    </tr>\n",
       "  </tbody>\n",
       "</table>\n",
       "<p>3 rows × 27 columns</p>\n",
       "</div>"
      ],
      "text/plain": [
       "       Kontrak   Tipe_Kendaraan   Pekerjaan      Area  Tenor  \\\n",
       "21486    21487  TRUCK & PICK UP  Wiraswasta      Jawa     48   \n",
       "11269    11270          MINIBUS     Lainnya      Jawa     48   \n",
       "1193      1194             LCGC  Wiraswasta  Sumatera     36   \n",
       "\n",
       "      Bucket_Collectability    NPF    Total_AR    LTV     OTR  ...  \\\n",
       "21486           0 - 30 hari  Tidak  251.952000  85.62  222.47  ...   \n",
       "11269           0 - 30 hari  Tidak  156.429993  73.03  173.30  ...   \n",
       "1193        >120 - 150 hari     Ya  148.595000  84.66  128.35  ...   \n",
       "\n",
       "       Tanggungan   Status     Gender  Paket  Inflasi              Segmen  \\\n",
       "21486         Ada  MENIKAH  Laki-laki  Tidak     3.61  Jasa & Perdagangan   \n",
       "11269   Tidak ada  MENIKAH  Perempuan  Tidak     8.79              Others   \n",
       "1193    Tidak ada   OTHERS  Perempuan     Ya     6.29              Others   \n",
       "\n",
       "      Kerja_Karyawan Kerja_Wiraswasta Pendidikan_Sarjana NPF_Ya  \n",
       "21486              0                1                  0      0  \n",
       "11269              0                0                  0      0  \n",
       "1193               0                1                  1      1  \n",
       "\n",
       "[3 rows x 27 columns]"
      ]
     },
     "execution_count": 111,
     "metadata": {},
     "output_type": "execute_result"
    }
   ],
   "source": [
    "df_sample.head(3)"
   ]
  },
  {
   "cell_type": "markdown",
   "metadata": {},
   "source": [
    "### Hypothesis Testing"
   ]
  },
  {
   "cell_type": "markdown",
   "metadata": {},
   "source": [
    "Apakah rata-rata pendidikan sarjana pada kelompok perempuan berbeda dari pendidikan sarjana pada kelompok laki-laki?"
   ]
  },
  {
   "cell_type": "code",
   "execution_count": 76,
   "metadata": {
    "ExecuteTime": {
     "end_time": "2019-10-25T15:29:26.245484Z",
     "start_time": "2019-10-25T15:29:22.545031Z"
    }
   },
   "outputs": [],
   "source": [
    "from scipy.stats import ttest_ind"
   ]
  },
  {
   "cell_type": "code",
   "execution_count": 98,
   "metadata": {
    "ExecuteTime": {
     "end_time": "2019-10-25T15:41:19.801946Z",
     "start_time": "2019-10-25T15:41:19.785351Z"
    }
   },
   "outputs": [],
   "source": [
    "x1 = df_sample['Pendidikan_Sarjana'][df_sample['Gender'] == 'Perempuan']\n",
    "x2 = df_sample['Pendidikan_Sarjana'][df_sample['Gender'] != 'Perempuan']"
   ]
  },
  {
   "cell_type": "code",
   "execution_count": 99,
   "metadata": {
    "ExecuteTime": {
     "end_time": "2019-10-25T15:41:20.214322Z",
     "start_time": "2019-10-25T15:41:20.202598Z"
    }
   },
   "outputs": [
    {
     "data": {
      "text/plain": [
       "Ttest_indResult(statistic=10.937755959519487, pvalue=8.927148714123158e-28)"
      ]
     },
     "execution_count": 99,
     "metadata": {},
     "output_type": "execute_result"
    }
   ],
   "source": [
    "ttest_ind(x1, x2, equal_var = True) # assuming equal variances"
   ]
  },
  {
   "cell_type": "code",
   "execution_count": 100,
   "metadata": {
    "ExecuteTime": {
     "end_time": "2019-10-25T15:41:20.483831Z",
     "start_time": "2019-10-25T15:41:20.476213Z"
    }
   },
   "outputs": [
    {
     "name": "stdout",
     "output_type": "stream",
     "text": [
      "standard deviations of x1 = 0.500 and x2 = 0.492\n"
     ]
    }
   ],
   "source": [
    "print('standard deviations of x1 = %.3f and x2 = %.3f' %(x1.std(), x2.std()))"
   ]
  },
  {
   "cell_type": "markdown",
   "metadata": {
    "ExecuteTime": {
     "end_time": "2019-10-25T15:41:21.380692Z",
     "start_time": "2019-10-25T15:41:21.368584Z"
    }
   },
   "source": [
    "**Interpretasi** <br>\n",
    "Karena p-value > 0.05 dan deviasi standar antara x1 dan x2 yang tidak terlalu bebeda, maka H0 gagal ditolak. Sehingga dapat disimpulkan bahwa rata-rata pendidikan sarjana pada kelompok perempuan dan laki-laki tidak berbeda secara signifikan."
   ]
  },
  {
   "cell_type": "markdown",
   "metadata": {
    "ExecuteTime": {
     "end_time": "2019-10-25T15:45:19.110503Z",
     "start_time": "2019-10-25T15:45:19.098948Z"
    }
   },
   "source": [
    "Apakah rata-rata pekerjaan wiraswasta pada kelompok NPF berbeda dari pekerjaan wiraswasta pada kelompok non-NPF?"
   ]
  },
  {
   "cell_type": "code",
   "execution_count": 103,
   "metadata": {
    "ExecuteTime": {
     "end_time": "2019-10-25T15:46:15.270155Z",
     "start_time": "2019-10-25T15:46:15.255354Z"
    }
   },
   "outputs": [],
   "source": [
    "a1 = df_sample['Kerja_Wiraswasta'][df_sample['NPF'] == 'Ya']\n",
    "a2 = df_sample['Kerja_Wiraswasta'][df_sample['NPF'] != 'Ya']"
   ]
  },
  {
   "cell_type": "code",
   "execution_count": 104,
   "metadata": {
    "ExecuteTime": {
     "end_time": "2019-10-25T15:46:31.952760Z",
     "start_time": "2019-10-25T15:46:31.941621Z"
    }
   },
   "outputs": [
    {
     "data": {
      "text/plain": [
       "Ttest_indResult(statistic=16.03408884368722, pvalue=1.5330532485909583e-57)"
      ]
     },
     "execution_count": 104,
     "metadata": {},
     "output_type": "execute_result"
    }
   ],
   "source": [
    "ttest_ind(a1, a2, equal_var = True) # assuming equal variances"
   ]
  },
  {
   "cell_type": "code",
   "execution_count": 106,
   "metadata": {
    "ExecuteTime": {
     "end_time": "2019-10-25T15:47:03.059583Z",
     "start_time": "2019-10-25T15:47:03.047407Z"
    }
   },
   "outputs": [
    {
     "name": "stdout",
     "output_type": "stream",
     "text": [
      "standard deviations of a1 = 0.500 and a2 = 0.489\n"
     ]
    }
   ],
   "source": [
    "print('standard deviations of a1 = %.3f and a2 = %.3f' %(a1.std(), a2.std()))"
   ]
  },
  {
   "cell_type": "markdown",
   "metadata": {},
   "source": [
    "**Interpretasi** <br>\n",
    "Karena p-value > 0.05 dan deviasi standar antara a1 dan a2 yang tidak terlalu bebeda, maka H0 gagal ditolak. Sehingga dapat disimpulkan bahwa rata-rata pekerjaan wiraswasta pada kelompok NPF dan non-NPF tidak berbeda secara signifikan."
   ]
  },
  {
   "cell_type": "markdown",
   "metadata": {},
   "source": [
    "### Linear Regression"
   ]
  },
  {
   "cell_type": "code",
   "execution_count": 112,
   "metadata": {
    "ExecuteTime": {
     "end_time": "2019-10-25T15:56:56.043823Z",
     "start_time": "2019-10-25T15:56:49.417861Z"
    }
   },
   "outputs": [],
   "source": [
    "from sklearn.model_selection import train_test_split\n",
    "from sklearn.linear_model import LinearRegression\n",
    "from sklearn import metrics"
   ]
  },
  {
   "cell_type": "code",
   "execution_count": 113,
   "metadata": {
    "ExecuteTime": {
     "end_time": "2019-10-25T15:56:56.062649Z",
     "start_time": "2019-10-25T15:56:56.051585Z"
    }
   },
   "outputs": [],
   "source": [
    "# input dataset\n",
    "x = df_sample['NPF_Ya']\n",
    "y = df_sample['LTV']"
   ]
  },
  {
   "cell_type": "code",
   "execution_count": 114,
   "metadata": {
    "ExecuteTime": {
     "end_time": "2019-10-25T15:56:56.083124Z",
     "start_time": "2019-10-25T15:56:56.070585Z"
    }
   },
   "outputs": [],
   "source": [
    "# change data structure\n",
    "x = x.to_numpy().reshape(-1,1)\n",
    "y = y.to_numpy().reshape(-1,1)"
   ]
  },
  {
   "cell_type": "code",
   "execution_count": 115,
   "metadata": {
    "ExecuteTime": {
     "end_time": "2019-10-25T15:56:57.487285Z",
     "start_time": "2019-10-25T15:56:57.343273Z"
    }
   },
   "outputs": [
    {
     "data": {
      "text/plain": [
       "LinearRegression(copy_X=True, fit_intercept=True, n_jobs=None,\n",
       "         normalize=False)"
      ]
     },
     "execution_count": 115,
     "metadata": {},
     "output_type": "execute_result"
    }
   ],
   "source": [
    "regressor = LinearRegression()\n",
    "regressor.fit(x,y) # training the algorithm"
   ]
  },
  {
   "cell_type": "code",
   "execution_count": 116,
   "metadata": {
    "ExecuteTime": {
     "end_time": "2019-10-25T15:56:58.412462Z",
     "start_time": "2019-10-25T15:56:58.405481Z"
    }
   },
   "outputs": [
    {
     "name": "stdout",
     "output_type": "stream",
     "text": [
      "y = 75.553 + 11.307 X\n"
     ]
    }
   ],
   "source": [
    "# regression equation\n",
    "print('y = %.3f + %.3f X' %(regressor.intercept_, regressor.coef_))"
   ]
  },
  {
   "cell_type": "code",
   "execution_count": 117,
   "metadata": {
    "ExecuteTime": {
     "end_time": "2019-10-25T15:57:37.053161Z",
     "start_time": "2019-10-25T15:57:37.040837Z"
    }
   },
   "outputs": [
    {
     "name": "stdout",
     "output_type": "stream",
     "text": [
      "R2 = 0.143\n",
      "RMSE = 13.860\n"
     ]
    }
   ],
   "source": [
    "# regression equation\n",
    "y_pred = regressor.predict(x)\n",
    "print('R2 = %.3f' %metrics.r2_score(y, y_pred))\n",
    "rmse = np.sqrt(metrics.mean_squared_error(y, y_pred))\n",
    "print('RMSE = %.3f' %rmse)"
   ]
  },
  {
   "cell_type": "markdown",
   "metadata": {},
   "source": [
    "**Interpretasi**<br>\n",
    "Model hanya menjelaskan 14.3% variasi data di sekitar rata-ratanya."
   ]
  },
  {
   "cell_type": "markdown",
   "metadata": {},
   "source": [
    "### Modelling with statsmodels"
   ]
  },
  {
   "cell_type": "markdown",
   "metadata": {},
   "source": [
    "**Regresi pengaruh pendapatan, pendidikan sarjana, pekerjaan karyawan, inflasi, dan tenor terhadap kondisi NPF**"
   ]
  },
  {
   "cell_type": "code",
   "execution_count": 118,
   "metadata": {
    "ExecuteTime": {
     "end_time": "2019-10-25T16:00:31.991102Z",
     "start_time": "2019-10-25T16:00:31.070282Z"
    }
   },
   "outputs": [],
   "source": [
    "import statsmodels.formula.api as smf"
   ]
  },
  {
   "cell_type": "code",
   "execution_count": 119,
   "metadata": {
    "ExecuteTime": {
     "end_time": "2019-10-25T16:02:10.877731Z",
     "start_time": "2019-10-25T16:02:10.280342Z"
    }
   },
   "outputs": [
    {
     "name": "stdout",
     "output_type": "stream",
     "text": [
      "                            OLS Regression Results                            \n",
      "==============================================================================\n",
      "Dep. Variable:                 NPF_Ya   R-squared:                       0.122\n",
      "Model:                            OLS   Adj. R-squared:                  0.122\n",
      "Method:                 Least Squares   F-statistic:                     630.3\n",
      "Date:                Fri, 25 Oct 2019   Prob (F-statistic):               0.00\n",
      "Time:                        23:02:10   Log-Likelihood:                -14949.\n",
      "No. Observations:               22634   AIC:                         2.991e+04\n",
      "Df Residuals:                   22628   BIC:                         2.996e+04\n",
      "Df Model:                           5                                         \n",
      "Covariance Type:            nonrobust                                         \n",
      "======================================================================================\n",
      "                         coef    std err          t      P>|t|      [0.025      0.975]\n",
      "--------------------------------------------------------------------------------------\n",
      "Intercept             -0.0386      0.017     -2.234      0.025      -0.072      -0.005\n",
      "Income               6.44e-05   2.86e-05      2.256      0.024    8.44e-06       0.000\n",
      "Pendidikan_Sarjana    -0.0486      0.007     -7.318      0.000      -0.062      -0.036\n",
      "Kerja_Karyawan        -0.1081      0.007    -16.382      0.000      -0.121      -0.095\n",
      "Inflasi                0.0059      0.002      3.287      0.001       0.002       0.009\n",
      "Tenor                  0.0126      0.000     51.559      0.000       0.012       0.013\n",
      "==============================================================================\n",
      "Omnibus:                   125439.168   Durbin-Watson:                   2.003\n",
      "Prob(Omnibus):                  0.000   Jarque-Bera (JB):             2230.416\n",
      "Skew:                          -0.036   Prob(JB):                         0.00\n",
      "Kurtosis:                       1.464   Cond. No.                         622.\n",
      "==============================================================================\n",
      "\n",
      "Warnings:\n",
      "[1] Standard Errors assume that the covariance matrix of the errors is correctly specified.\n"
     ]
    }
   ],
   "source": [
    "ols_df_sample = smf.ols('NPF_Ya ~ Income + Pendidikan_Sarjana + Kerja_Karyawan + Inflasi + Tenor', data=df_sample).fit()\n",
    "print(ols_df_sample.summary())"
   ]
  }
 ],
 "metadata": {
  "kernelspec": {
   "display_name": "Python 3",
   "language": "python",
   "name": "python3"
  },
  "language_info": {
   "codemirror_mode": {
    "name": "ipython",
    "version": 3
   },
   "file_extension": ".py",
   "mimetype": "text/x-python",
   "name": "python",
   "nbconvert_exporter": "python",
   "pygments_lexer": "ipython3",
   "version": "3.7.3"
  },
  "toc": {
   "base_numbering": 1,
   "nav_menu": {},
   "number_sections": false,
   "sideBar": true,
   "skip_h1_title": false,
   "title_cell": "Table of Contents",
   "title_sidebar": "Contents",
   "toc_cell": false,
   "toc_position": {},
   "toc_section_display": true,
   "toc_window_display": true
  }
 },
 "nbformat": 4,
 "nbformat_minor": 2
}
