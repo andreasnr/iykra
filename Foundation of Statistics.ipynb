{
 "cells": [
  {
   "cell_type": "markdown",
   "metadata": {},
   "source": [
    "# Statistics - HCI IYKRA"
   ]
  },
  {
   "cell_type": "markdown",
   "metadata": {},
   "source": [
    "## Import library"
   ]
  },
  {
   "cell_type": "code",
   "execution_count": 1,
   "metadata": {
    "ExecuteTime": {
     "end_time": "2019-10-25T03:04:56.504366Z",
     "start_time": "2019-10-25T03:04:51.568554Z"
    }
   },
   "outputs": [],
   "source": [
    "import numpy as np\n",
    "import pandas as pd"
   ]
  },
  {
   "cell_type": "markdown",
   "metadata": {},
   "source": [
    "## Load data"
   ]
  },
  {
   "cell_type": "code",
   "execution_count": 3,
   "metadata": {
    "ExecuteTime": {
     "end_time": "2019-10-25T03:06:17.938423Z",
     "start_time": "2019-10-25T03:06:04.145686Z"
    }
   },
   "outputs": [],
   "source": [
    "df = pd.read_excel('data loan.xlsx')"
   ]
  },
  {
   "cell_type": "code",
   "execution_count": 4,
   "metadata": {
    "ExecuteTime": {
     "end_time": "2019-10-25T03:07:04.652052Z",
     "start_time": "2019-10-25T03:07:04.232906Z"
    }
   },
   "outputs": [
    {
     "data": {
      "text/html": [
       "<div>\n",
       "<style scoped>\n",
       "    .dataframe tbody tr th:only-of-type {\n",
       "        vertical-align: middle;\n",
       "    }\n",
       "\n",
       "    .dataframe tbody tr th {\n",
       "        vertical-align: top;\n",
       "    }\n",
       "\n",
       "    .dataframe thead th {\n",
       "        text-align: right;\n",
       "    }\n",
       "</style>\n",
       "<table border=\"1\" class=\"dataframe\">\n",
       "  <thead>\n",
       "    <tr style=\"text-align: right;\">\n",
       "      <th></th>\n",
       "      <th>Kontrak</th>\n",
       "      <th>Tipe_Kendaraan</th>\n",
       "      <th>Pekerjaan</th>\n",
       "      <th>Area</th>\n",
       "      <th>Tenor</th>\n",
       "      <th>Bucket_Collectability</th>\n",
       "      <th>NPF</th>\n",
       "      <th>Total_AR</th>\n",
       "      <th>LTV</th>\n",
       "      <th>OTR</th>\n",
       "      <th>...</th>\n",
       "      <th>DP</th>\n",
       "      <th>AF</th>\n",
       "      <th>Tujuan</th>\n",
       "      <th>Pendidikan</th>\n",
       "      <th>Tanggungan</th>\n",
       "      <th>Status</th>\n",
       "      <th>Gender</th>\n",
       "      <th>Paket</th>\n",
       "      <th>Inflasi</th>\n",
       "      <th>Segmen</th>\n",
       "    </tr>\n",
       "  </thead>\n",
       "  <tbody>\n",
       "    <tr>\n",
       "      <th>0</th>\n",
       "      <td>1</td>\n",
       "      <td>OTHERS</td>\n",
       "      <td>Karyawan</td>\n",
       "      <td>Jawa</td>\n",
       "      <td>12</td>\n",
       "      <td>&gt;90 - 120 hari</td>\n",
       "      <td>Ya</td>\n",
       "      <td>2.763126</td>\n",
       "      <td>100.00</td>\n",
       "      <td>2.76</td>\n",
       "      <td>...</td>\n",
       "      <td>0.0</td>\n",
       "      <td>2.76</td>\n",
       "      <td>Private</td>\n",
       "      <td>Sarjana</td>\n",
       "      <td>Tidak ada</td>\n",
       "      <td>OTHERS</td>\n",
       "      <td>Laki-laki</td>\n",
       "      <td>Ya</td>\n",
       "      <td>3.58</td>\n",
       "      <td>Jasa &amp; Perdagangan</td>\n",
       "    </tr>\n",
       "    <tr>\n",
       "      <th>1</th>\n",
       "      <td>2</td>\n",
       "      <td>OTHERS</td>\n",
       "      <td>Wiraswasta</td>\n",
       "      <td>Jawa</td>\n",
       "      <td>12</td>\n",
       "      <td>0 - 30 hari</td>\n",
       "      <td>Tidak</td>\n",
       "      <td>2.805000</td>\n",
       "      <td>103.70</td>\n",
       "      <td>2.71</td>\n",
       "      <td>...</td>\n",
       "      <td>0.0</td>\n",
       "      <td>2.81</td>\n",
       "      <td>Private</td>\n",
       "      <td>Others</td>\n",
       "      <td>Tidak ada</td>\n",
       "      <td>MENIKAH</td>\n",
       "      <td>Laki-laki</td>\n",
       "      <td>Ya</td>\n",
       "      <td>3.58</td>\n",
       "      <td>Others</td>\n",
       "    </tr>\n",
       "    <tr>\n",
       "      <th>2</th>\n",
       "      <td>3</td>\n",
       "      <td>OTHERS</td>\n",
       "      <td>Wiraswasta</td>\n",
       "      <td>Jawa</td>\n",
       "      <td>12</td>\n",
       "      <td>0 - 30 hari</td>\n",
       "      <td>Tidak</td>\n",
       "      <td>3.104000</td>\n",
       "      <td>103.33</td>\n",
       "      <td>3.00</td>\n",
       "      <td>...</td>\n",
       "      <td>0.0</td>\n",
       "      <td>3.10</td>\n",
       "      <td>Private</td>\n",
       "      <td>Sarjana</td>\n",
       "      <td>Tidak ada</td>\n",
       "      <td>OTHERS</td>\n",
       "      <td>Perempuan</td>\n",
       "      <td>Ya</td>\n",
       "      <td>4.17</td>\n",
       "      <td>Others</td>\n",
       "    </tr>\n",
       "    <tr>\n",
       "      <th>3</th>\n",
       "      <td>4</td>\n",
       "      <td>OTHERS</td>\n",
       "      <td>Karyawan</td>\n",
       "      <td>Jawa</td>\n",
       "      <td>12</td>\n",
       "      <td>0 - 30 hari</td>\n",
       "      <td>Tidak</td>\n",
       "      <td>4.088100</td>\n",
       "      <td>102.51</td>\n",
       "      <td>3.98</td>\n",
       "      <td>...</td>\n",
       "      <td>0.0</td>\n",
       "      <td>4.08</td>\n",
       "      <td>Private</td>\n",
       "      <td>Sarjana</td>\n",
       "      <td>Ada</td>\n",
       "      <td>OTHERS</td>\n",
       "      <td>Laki-laki</td>\n",
       "      <td>Ya</td>\n",
       "      <td>3.61</td>\n",
       "      <td>Jasa &amp; Perdagangan</td>\n",
       "    </tr>\n",
       "    <tr>\n",
       "      <th>4</th>\n",
       "      <td>5</td>\n",
       "      <td>OTHERS</td>\n",
       "      <td>Karyawan</td>\n",
       "      <td>Jawa</td>\n",
       "      <td>12</td>\n",
       "      <td>0 - 30 hari</td>\n",
       "      <td>Tidak</td>\n",
       "      <td>4.607100</td>\n",
       "      <td>102.22</td>\n",
       "      <td>4.50</td>\n",
       "      <td>...</td>\n",
       "      <td>0.0</td>\n",
       "      <td>4.60</td>\n",
       "      <td>Private</td>\n",
       "      <td>Sarjana</td>\n",
       "      <td>Tidak ada</td>\n",
       "      <td>OTHERS</td>\n",
       "      <td>Perempuan</td>\n",
       "      <td>Ya</td>\n",
       "      <td>3.30</td>\n",
       "      <td>Jasa &amp; Perdagangan</td>\n",
       "    </tr>\n",
       "  </tbody>\n",
       "</table>\n",
       "<p>5 rows × 23 columns</p>\n",
       "</div>"
      ],
      "text/plain": [
       "   Kontrak Tipe_Kendaraan   Pekerjaan  Area  Tenor Bucket_Collectability  \\\n",
       "0        1         OTHERS    Karyawan  Jawa     12        >90 - 120 hari   \n",
       "1        2         OTHERS  Wiraswasta  Jawa     12           0 - 30 hari   \n",
       "2        3         OTHERS  Wiraswasta  Jawa     12           0 - 30 hari   \n",
       "3        4         OTHERS    Karyawan  Jawa     12           0 - 30 hari   \n",
       "4        5         OTHERS    Karyawan  Jawa     12           0 - 30 hari   \n",
       "\n",
       "     NPF  Total_AR     LTV   OTR  ...   DP    AF   Tujuan  Pendidikan  \\\n",
       "0     Ya  2.763126  100.00  2.76  ...  0.0  2.76  Private     Sarjana   \n",
       "1  Tidak  2.805000  103.70  2.71  ...  0.0  2.81  Private      Others   \n",
       "2  Tidak  3.104000  103.33  3.00  ...  0.0  3.10  Private     Sarjana   \n",
       "3  Tidak  4.088100  102.51  3.98  ...  0.0  4.08  Private     Sarjana   \n",
       "4  Tidak  4.607100  102.22  4.50  ...  0.0  4.60  Private     Sarjana   \n",
       "\n",
       "   Tanggungan   Status     Gender Paket Inflasi              Segmen  \n",
       "0   Tidak ada   OTHERS  Laki-laki    Ya    3.58  Jasa & Perdagangan  \n",
       "1   Tidak ada  MENIKAH  Laki-laki    Ya    3.58              Others  \n",
       "2   Tidak ada   OTHERS  Perempuan    Ya    4.17              Others  \n",
       "3         Ada   OTHERS  Laki-laki    Ya    3.61  Jasa & Perdagangan  \n",
       "4   Tidak ada   OTHERS  Perempuan    Ya    3.30  Jasa & Perdagangan  \n",
       "\n",
       "[5 rows x 23 columns]"
      ]
     },
     "execution_count": 4,
     "metadata": {},
     "output_type": "execute_result"
    }
   ],
   "source": [
    "df.head()"
   ]
  },
  {
   "cell_type": "code",
   "execution_count": 6,
   "metadata": {
    "ExecuteTime": {
     "end_time": "2019-10-25T03:08:22.870963Z",
     "start_time": "2019-10-25T03:08:22.807168Z"
    }
   },
   "outputs": [
    {
     "name": "stdout",
     "output_type": "stream",
     "text": [
      "<class 'pandas.core.frame.DataFrame'>\n",
      "RangeIndex: 28293 entries, 0 to 28292\n",
      "Data columns (total 23 columns):\n",
      "Kontrak                  28293 non-null int64\n",
      "Tipe_Kendaraan           28293 non-null object\n",
      "Pekerjaan                28293 non-null object\n",
      "Area                     28293 non-null object\n",
      "Tenor                    28293 non-null int64\n",
      "Bucket_Collectability    28293 non-null object\n",
      "NPF                      28293 non-null object\n",
      "Total_AR                 28293 non-null float64\n",
      "LTV                      28293 non-null float64\n",
      "OTR                      28293 non-null float64\n",
      "Age                      28293 non-null int64\n",
      "Interest_Rate            28293 non-null float64\n",
      "Income                   28293 non-null int64\n",
      "DP                       28293 non-null float64\n",
      "AF                       28293 non-null float64\n",
      "Tujuan                   28293 non-null object\n",
      "Pendidikan               28293 non-null object\n",
      "Tanggungan               28293 non-null object\n",
      "Status                   28293 non-null object\n",
      "Gender                   28293 non-null object\n",
      "Paket                    28293 non-null object\n",
      "Inflasi                  28293 non-null float64\n",
      "Segmen                   28293 non-null object\n",
      "dtypes: float64(7), int64(4), object(12)\n",
      "memory usage: 5.0+ MB\n"
     ]
    }
   ],
   "source": [
    "df.info()"
   ]
  },
  {
   "cell_type": "code",
   "execution_count": 11,
   "metadata": {
    "ExecuteTime": {
     "end_time": "2019-10-25T03:12:29.051430Z",
     "start_time": "2019-10-25T03:12:29.016714Z"
    }
   },
   "outputs": [],
   "source": [
    "numerical_data = df.select_dtypes(include = [np.number]).columns\n",
    "categorical_data = df.select_dtypes(exclude = [np.number]).columns"
   ]
  },
  {
   "cell_type": "code",
   "execution_count": 12,
   "metadata": {
    "ExecuteTime": {
     "end_time": "2019-10-25T03:12:32.618200Z",
     "start_time": "2019-10-25T03:12:32.608262Z"
    }
   },
   "outputs": [
    {
     "data": {
      "text/plain": [
       "Index(['Kontrak', 'Tenor', 'Total_AR', 'LTV', 'OTR', 'Age', 'Interest_Rate',\n",
       "       'Income', 'DP', 'AF', 'Inflasi'],\n",
       "      dtype='object')"
      ]
     },
     "execution_count": 12,
     "metadata": {},
     "output_type": "execute_result"
    }
   ],
   "source": [
    "numerical_data"
   ]
  },
  {
   "cell_type": "code",
   "execution_count": 13,
   "metadata": {
    "ExecuteTime": {
     "end_time": "2019-10-25T03:12:34.156823Z",
     "start_time": "2019-10-25T03:12:34.148412Z"
    }
   },
   "outputs": [
    {
     "data": {
      "text/plain": [
       "Index(['Tipe_Kendaraan', 'Pekerjaan', 'Area', 'Bucket_Collectability', 'NPF',\n",
       "       'Tujuan', 'Pendidikan', 'Tanggungan', 'Status', 'Gender', 'Paket',\n",
       "       'Segmen'],\n",
       "      dtype='object')"
      ]
     },
     "execution_count": 13,
     "metadata": {},
     "output_type": "execute_result"
    }
   ],
   "source": [
    "categorical_data"
   ]
  },
  {
   "cell_type": "code",
   "execution_count": 22,
   "metadata": {
    "ExecuteTime": {
     "end_time": "2019-10-25T03:22:58.807947Z",
     "start_time": "2019-10-25T03:22:58.773670Z"
    }
   },
   "outputs": [
    {
     "data": {
      "text/html": [
       "<div>\n",
       "<style scoped>\n",
       "    .dataframe tbody tr th:only-of-type {\n",
       "        vertical-align: middle;\n",
       "    }\n",
       "\n",
       "    .dataframe tbody tr th {\n",
       "        vertical-align: top;\n",
       "    }\n",
       "\n",
       "    .dataframe thead th {\n",
       "        text-align: right;\n",
       "    }\n",
       "</style>\n",
       "<table border=\"1\" class=\"dataframe\">\n",
       "  <thead>\n",
       "    <tr style=\"text-align: right;\">\n",
       "      <th></th>\n",
       "      <th>Tipe_Kendaraan</th>\n",
       "      <th>Pekerjaan</th>\n",
       "      <th>Area</th>\n",
       "      <th>Bucket_Collectability</th>\n",
       "      <th>NPF</th>\n",
       "      <th>Tujuan</th>\n",
       "      <th>Pendidikan</th>\n",
       "      <th>Tanggungan</th>\n",
       "      <th>Status</th>\n",
       "      <th>Gender</th>\n",
       "      <th>Paket</th>\n",
       "      <th>Segmen</th>\n",
       "    </tr>\n",
       "  </thead>\n",
       "  <tbody>\n",
       "    <tr>\n",
       "      <th>0</th>\n",
       "      <td>OTHERS</td>\n",
       "      <td>Karyawan</td>\n",
       "      <td>Jawa</td>\n",
       "      <td>&gt;90 - 120 hari</td>\n",
       "      <td>Ya</td>\n",
       "      <td>Private</td>\n",
       "      <td>Sarjana</td>\n",
       "      <td>Tidak ada</td>\n",
       "      <td>OTHERS</td>\n",
       "      <td>Laki-laki</td>\n",
       "      <td>Ya</td>\n",
       "      <td>Jasa &amp; Perdagangan</td>\n",
       "    </tr>\n",
       "    <tr>\n",
       "      <th>1</th>\n",
       "      <td>OTHERS</td>\n",
       "      <td>Wiraswasta</td>\n",
       "      <td>Jawa</td>\n",
       "      <td>0 - 30 hari</td>\n",
       "      <td>Tidak</td>\n",
       "      <td>Private</td>\n",
       "      <td>Others</td>\n",
       "      <td>Tidak ada</td>\n",
       "      <td>MENIKAH</td>\n",
       "      <td>Laki-laki</td>\n",
       "      <td>Ya</td>\n",
       "      <td>Others</td>\n",
       "    </tr>\n",
       "    <tr>\n",
       "      <th>2</th>\n",
       "      <td>OTHERS</td>\n",
       "      <td>Wiraswasta</td>\n",
       "      <td>Jawa</td>\n",
       "      <td>0 - 30 hari</td>\n",
       "      <td>Tidak</td>\n",
       "      <td>Private</td>\n",
       "      <td>Sarjana</td>\n",
       "      <td>Tidak ada</td>\n",
       "      <td>OTHERS</td>\n",
       "      <td>Perempuan</td>\n",
       "      <td>Ya</td>\n",
       "      <td>Others</td>\n",
       "    </tr>\n",
       "    <tr>\n",
       "      <th>3</th>\n",
       "      <td>OTHERS</td>\n",
       "      <td>Karyawan</td>\n",
       "      <td>Jawa</td>\n",
       "      <td>0 - 30 hari</td>\n",
       "      <td>Tidak</td>\n",
       "      <td>Private</td>\n",
       "      <td>Sarjana</td>\n",
       "      <td>Ada</td>\n",
       "      <td>OTHERS</td>\n",
       "      <td>Laki-laki</td>\n",
       "      <td>Ya</td>\n",
       "      <td>Jasa &amp; Perdagangan</td>\n",
       "    </tr>\n",
       "    <tr>\n",
       "      <th>4</th>\n",
       "      <td>OTHERS</td>\n",
       "      <td>Karyawan</td>\n",
       "      <td>Jawa</td>\n",
       "      <td>0 - 30 hari</td>\n",
       "      <td>Tidak</td>\n",
       "      <td>Private</td>\n",
       "      <td>Sarjana</td>\n",
       "      <td>Tidak ada</td>\n",
       "      <td>OTHERS</td>\n",
       "      <td>Perempuan</td>\n",
       "      <td>Ya</td>\n",
       "      <td>Jasa &amp; Perdagangan</td>\n",
       "    </tr>\n",
       "  </tbody>\n",
       "</table>\n",
       "</div>"
      ],
      "text/plain": [
       "  Tipe_Kendaraan   Pekerjaan  Area Bucket_Collectability    NPF   Tujuan  \\\n",
       "0         OTHERS    Karyawan  Jawa        >90 - 120 hari     Ya  Private   \n",
       "1         OTHERS  Wiraswasta  Jawa           0 - 30 hari  Tidak  Private   \n",
       "2         OTHERS  Wiraswasta  Jawa           0 - 30 hari  Tidak  Private   \n",
       "3         OTHERS    Karyawan  Jawa           0 - 30 hari  Tidak  Private   \n",
       "4         OTHERS    Karyawan  Jawa           0 - 30 hari  Tidak  Private   \n",
       "\n",
       "  Pendidikan Tanggungan   Status     Gender Paket              Segmen  \n",
       "0    Sarjana  Tidak ada   OTHERS  Laki-laki    Ya  Jasa & Perdagangan  \n",
       "1     Others  Tidak ada  MENIKAH  Laki-laki    Ya              Others  \n",
       "2    Sarjana  Tidak ada   OTHERS  Perempuan    Ya              Others  \n",
       "3    Sarjana        Ada   OTHERS  Laki-laki    Ya  Jasa & Perdagangan  \n",
       "4    Sarjana  Tidak ada   OTHERS  Perempuan    Ya  Jasa & Perdagangan  "
      ]
     },
     "execution_count": 22,
     "metadata": {},
     "output_type": "execute_result"
    }
   ],
   "source": [
    "df[categorical_data].head()"
   ]
  },
  {
   "cell_type": "code",
   "execution_count": 26,
   "metadata": {
    "ExecuteTime": {
     "end_time": "2019-10-25T03:25:59.474633Z",
     "start_time": "2019-10-25T03:25:59.445803Z"
    }
   },
   "outputs": [
    {
     "data": {
      "text/html": [
       "<div>\n",
       "<style scoped>\n",
       "    .dataframe tbody tr th:only-of-type {\n",
       "        vertical-align: middle;\n",
       "    }\n",
       "\n",
       "    .dataframe tbody tr th {\n",
       "        vertical-align: top;\n",
       "    }\n",
       "\n",
       "    .dataframe thead th {\n",
       "        text-align: right;\n",
       "    }\n",
       "</style>\n",
       "<table border=\"1\" class=\"dataframe\">\n",
       "  <thead>\n",
       "    <tr style=\"text-align: right;\">\n",
       "      <th></th>\n",
       "      <th>Kontrak</th>\n",
       "      <th>Tenor</th>\n",
       "      <th>Total_AR</th>\n",
       "      <th>LTV</th>\n",
       "      <th>OTR</th>\n",
       "      <th>Age</th>\n",
       "      <th>Interest_Rate</th>\n",
       "      <th>Income</th>\n",
       "      <th>DP</th>\n",
       "      <th>AF</th>\n",
       "      <th>Inflasi</th>\n",
       "    </tr>\n",
       "  </thead>\n",
       "  <tbody>\n",
       "    <tr>\n",
       "      <th>0</th>\n",
       "      <td>1</td>\n",
       "      <td>12</td>\n",
       "      <td>2.763126</td>\n",
       "      <td>100.00</td>\n",
       "      <td>2.76</td>\n",
       "      <td>33</td>\n",
       "      <td>0.39</td>\n",
       "      <td>10</td>\n",
       "      <td>0.0</td>\n",
       "      <td>2.76</td>\n",
       "      <td>3.58</td>\n",
       "    </tr>\n",
       "    <tr>\n",
       "      <th>1</th>\n",
       "      <td>2</td>\n",
       "      <td>12</td>\n",
       "      <td>2.805000</td>\n",
       "      <td>103.70</td>\n",
       "      <td>2.71</td>\n",
       "      <td>30</td>\n",
       "      <td>0.00</td>\n",
       "      <td>15</td>\n",
       "      <td>0.0</td>\n",
       "      <td>2.81</td>\n",
       "      <td>3.58</td>\n",
       "    </tr>\n",
       "    <tr>\n",
       "      <th>2</th>\n",
       "      <td>3</td>\n",
       "      <td>12</td>\n",
       "      <td>3.104000</td>\n",
       "      <td>103.33</td>\n",
       "      <td>3.00</td>\n",
       "      <td>47</td>\n",
       "      <td>0.22</td>\n",
       "      <td>20</td>\n",
       "      <td>0.0</td>\n",
       "      <td>3.10</td>\n",
       "      <td>4.17</td>\n",
       "    </tr>\n",
       "    <tr>\n",
       "      <th>3</th>\n",
       "      <td>4</td>\n",
       "      <td>12</td>\n",
       "      <td>4.088100</td>\n",
       "      <td>102.51</td>\n",
       "      <td>3.98</td>\n",
       "      <td>59</td>\n",
       "      <td>0.25</td>\n",
       "      <td>15</td>\n",
       "      <td>0.0</td>\n",
       "      <td>4.08</td>\n",
       "      <td>3.61</td>\n",
       "    </tr>\n",
       "    <tr>\n",
       "      <th>4</th>\n",
       "      <td>5</td>\n",
       "      <td>12</td>\n",
       "      <td>4.607100</td>\n",
       "      <td>102.22</td>\n",
       "      <td>4.50</td>\n",
       "      <td>39</td>\n",
       "      <td>0.22</td>\n",
       "      <td>20</td>\n",
       "      <td>0.0</td>\n",
       "      <td>4.60</td>\n",
       "      <td>3.30</td>\n",
       "    </tr>\n",
       "  </tbody>\n",
       "</table>\n",
       "</div>"
      ],
      "text/plain": [
       "   Kontrak  Tenor  Total_AR     LTV   OTR  Age  Interest_Rate  Income   DP  \\\n",
       "0        1     12  2.763126  100.00  2.76   33           0.39      10  0.0   \n",
       "1        2     12  2.805000  103.70  2.71   30           0.00      15  0.0   \n",
       "2        3     12  3.104000  103.33  3.00   47           0.22      20  0.0   \n",
       "3        4     12  4.088100  102.51  3.98   59           0.25      15  0.0   \n",
       "4        5     12  4.607100  102.22  4.50   39           0.22      20  0.0   \n",
       "\n",
       "     AF  Inflasi  \n",
       "0  2.76     3.58  \n",
       "1  2.81     3.58  \n",
       "2  3.10     4.17  \n",
       "3  4.08     3.61  \n",
       "4  4.60     3.30  "
      ]
     },
     "execution_count": 26,
     "metadata": {},
     "output_type": "execute_result"
    }
   ],
   "source": [
    "df[numerical_data].head()"
   ]
  },
  {
   "cell_type": "markdown",
   "metadata": {},
   "source": [
    "## Transformasi Tipe_Kendaraan: Recording"
   ]
  },
  {
   "cell_type": "code",
   "execution_count": 14,
   "metadata": {
    "ExecuteTime": {
     "end_time": "2019-10-25T03:14:16.786693Z",
     "start_time": "2019-10-25T03:14:16.433483Z"
    }
   },
   "outputs": [
    {
     "data": {
      "text/plain": [
       "MINIBUS            14440\n",
       "LCGC                6078\n",
       "OTHERS              5657\n",
       "TRUCK & PICK UP     2118\n",
       "Name: Tipe_Kendaraan, dtype: int64"
      ]
     },
     "execution_count": 14,
     "metadata": {},
     "output_type": "execute_result"
    }
   ],
   "source": [
    "df['Tipe_Kendaraan'].value_counts()"
   ]
  },
  {
   "cell_type": "code",
   "execution_count": 15,
   "metadata": {
    "ExecuteTime": {
     "end_time": "2019-10-25T03:15:41.897582Z",
     "start_time": "2019-10-25T03:15:41.889334Z"
    }
   },
   "outputs": [],
   "source": [
    "import copy"
   ]
  },
  {
   "cell_type": "code",
   "execution_count": 16,
   "metadata": {
    "ExecuteTime": {
     "end_time": "2019-10-25T03:16:05.363392Z",
     "start_time": "2019-10-25T03:16:05.347959Z"
    }
   },
   "outputs": [],
   "source": [
    "df_edit = copy.deepcopy(df)"
   ]
  },
  {
   "cell_type": "code",
   "execution_count": 19,
   "metadata": {
    "ExecuteTime": {
     "end_time": "2019-10-25T03:19:29.375019Z",
     "start_time": "2019-10-25T03:19:29.361375Z"
    }
   },
   "outputs": [],
   "source": [
    "df_edit['Tipe_Kendaraan'] = df_edit.Tipe_Kendaraan.map({'MINIBUS':'MINIBUS',\n",
    "                                                      'LCGC':'NON-MINIBUS',\n",
    "                                                      'OTHERS':'NON-MINIBUS',\n",
    "                                                       'TRUCK & PICK UP':'NON-MINIBUS'})"
   ]
  },
  {
   "cell_type": "code",
   "execution_count": 20,
   "metadata": {
    "ExecuteTime": {
     "end_time": "2019-10-25T03:19:51.607632Z",
     "start_time": "2019-10-25T03:19:51.589782Z"
    }
   },
   "outputs": [
    {
     "data": {
      "text/plain": [
       "MINIBUS        14440\n",
       "NON-MINIBUS    13853\n",
       "Name: Tipe_Kendaraan, dtype: int64"
      ]
     },
     "execution_count": 20,
     "metadata": {},
     "output_type": "execute_result"
    }
   ],
   "source": [
    "df_edit['Tipe_Kendaraan'].value_counts()"
   ]
  },
  {
   "cell_type": "code",
   "execution_count": 21,
   "metadata": {
    "ExecuteTime": {
     "end_time": "2019-10-25T03:20:31.062194Z",
     "start_time": "2019-10-25T03:20:31.047811Z"
    }
   },
   "outputs": [
    {
     "data": {
      "text/plain": [
       "Index(['MINIBUS', 'LCGC', 'OTHERS', 'TRUCK & PICK UP'], dtype='object')"
      ]
     },
     "execution_count": 21,
     "metadata": {},
     "output_type": "execute_result"
    }
   ],
   "source": [
    "df['Tipe_Kendaraan'].value_counts().index"
   ]
  },
  {
   "cell_type": "markdown",
   "metadata": {},
   "source": [
    "## Transformasi Area: Dummy"
   ]
  },
  {
   "cell_type": "code",
   "execution_count": 27,
   "metadata": {
    "ExecuteTime": {
     "end_time": "2019-10-25T03:34:44.026809Z",
     "start_time": "2019-10-25T03:34:44.008679Z"
    }
   },
   "outputs": [
    {
     "data": {
      "text/plain": [
       "Jawa        15677\n",
       "Sumatera     9872\n",
       "Others       2744\n",
       "Name: Area, dtype: int64"
      ]
     },
     "execution_count": 27,
     "metadata": {},
     "output_type": "execute_result"
    }
   ],
   "source": [
    "df_edit['Area'].value_counts()"
   ]
  },
  {
   "cell_type": "code",
   "execution_count": 28,
   "metadata": {
    "ExecuteTime": {
     "end_time": "2019-10-25T03:35:40.252679Z",
     "start_time": "2019-10-25T03:35:40.238570Z"
    }
   },
   "outputs": [],
   "source": [
    "D_Area = pd.get_dummies(df_edit['Area'], prefix = 'Area')"
   ]
  },
  {
   "cell_type": "code",
   "execution_count": 30,
   "metadata": {
    "ExecuteTime": {
     "end_time": "2019-10-25T03:36:05.616399Z",
     "start_time": "2019-10-25T03:36:05.600708Z"
    }
   },
   "outputs": [
    {
     "data": {
      "text/html": [
       "<div>\n",
       "<style scoped>\n",
       "    .dataframe tbody tr th:only-of-type {\n",
       "        vertical-align: middle;\n",
       "    }\n",
       "\n",
       "    .dataframe tbody tr th {\n",
       "        vertical-align: top;\n",
       "    }\n",
       "\n",
       "    .dataframe thead th {\n",
       "        text-align: right;\n",
       "    }\n",
       "</style>\n",
       "<table border=\"1\" class=\"dataframe\">\n",
       "  <thead>\n",
       "    <tr style=\"text-align: right;\">\n",
       "      <th></th>\n",
       "      <th>Area_Jawa</th>\n",
       "      <th>Area_Others</th>\n",
       "      <th>Area_Sumatera</th>\n",
       "    </tr>\n",
       "  </thead>\n",
       "  <tbody>\n",
       "    <tr>\n",
       "      <th>0</th>\n",
       "      <td>1</td>\n",
       "      <td>0</td>\n",
       "      <td>0</td>\n",
       "    </tr>\n",
       "    <tr>\n",
       "      <th>1</th>\n",
       "      <td>1</td>\n",
       "      <td>0</td>\n",
       "      <td>0</td>\n",
       "    </tr>\n",
       "    <tr>\n",
       "      <th>2</th>\n",
       "      <td>1</td>\n",
       "      <td>0</td>\n",
       "      <td>0</td>\n",
       "    </tr>\n",
       "  </tbody>\n",
       "</table>\n",
       "</div>"
      ],
      "text/plain": [
       "   Area_Jawa  Area_Others  Area_Sumatera\n",
       "0          1            0              0\n",
       "1          1            0              0\n",
       "2          1            0              0"
      ]
     },
     "execution_count": 30,
     "metadata": {},
     "output_type": "execute_result"
    }
   ],
   "source": [
    "D_Area.head(3)"
   ]
  },
  {
   "cell_type": "code",
   "execution_count": 31,
   "metadata": {
    "ExecuteTime": {
     "end_time": "2019-10-25T03:36:52.674191Z",
     "start_time": "2019-10-25T03:36:52.666291Z"
    }
   },
   "outputs": [],
   "source": [
    "D_Area_Jawa = D_Area.drop(columns='Area_Jawa')"
   ]
  },
  {
   "cell_type": "code",
   "execution_count": 32,
   "metadata": {
    "ExecuteTime": {
     "end_time": "2019-10-25T03:37:10.638454Z",
     "start_time": "2019-10-25T03:37:10.626473Z"
    }
   },
   "outputs": [
    {
     "data": {
      "text/html": [
       "<div>\n",
       "<style scoped>\n",
       "    .dataframe tbody tr th:only-of-type {\n",
       "        vertical-align: middle;\n",
       "    }\n",
       "\n",
       "    .dataframe tbody tr th {\n",
       "        vertical-align: top;\n",
       "    }\n",
       "\n",
       "    .dataframe thead th {\n",
       "        text-align: right;\n",
       "    }\n",
       "</style>\n",
       "<table border=\"1\" class=\"dataframe\">\n",
       "  <thead>\n",
       "    <tr style=\"text-align: right;\">\n",
       "      <th></th>\n",
       "      <th>Area_Others</th>\n",
       "      <th>Area_Sumatera</th>\n",
       "    </tr>\n",
       "  </thead>\n",
       "  <tbody>\n",
       "    <tr>\n",
       "      <th>0</th>\n",
       "      <td>0</td>\n",
       "      <td>0</td>\n",
       "    </tr>\n",
       "    <tr>\n",
       "      <th>1</th>\n",
       "      <td>0</td>\n",
       "      <td>0</td>\n",
       "    </tr>\n",
       "    <tr>\n",
       "      <th>2</th>\n",
       "      <td>0</td>\n",
       "      <td>0</td>\n",
       "    </tr>\n",
       "  </tbody>\n",
       "</table>\n",
       "</div>"
      ],
      "text/plain": [
       "   Area_Others  Area_Sumatera\n",
       "0            0              0\n",
       "1            0              0\n",
       "2            0              0"
      ]
     },
     "execution_count": 32,
     "metadata": {},
     "output_type": "execute_result"
    }
   ],
   "source": [
    "D_Area_Jawa.head(3)"
   ]
  },
  {
   "cell_type": "code",
   "execution_count": 34,
   "metadata": {
    "ExecuteTime": {
     "end_time": "2019-10-25T03:38:10.993239Z",
     "start_time": "2019-10-25T03:38:10.967337Z"
    }
   },
   "outputs": [],
   "source": [
    "df_edit = pd.concat([df_edit, D_Area_Jawa], axis = 1)"
   ]
  },
  {
   "cell_type": "code",
   "execution_count": 35,
   "metadata": {
    "ExecuteTime": {
     "end_time": "2019-10-25T03:38:24.215762Z",
     "start_time": "2019-10-25T03:38:24.173855Z"
    }
   },
   "outputs": [
    {
     "data": {
      "text/html": [
       "<div>\n",
       "<style scoped>\n",
       "    .dataframe tbody tr th:only-of-type {\n",
       "        vertical-align: middle;\n",
       "    }\n",
       "\n",
       "    .dataframe tbody tr th {\n",
       "        vertical-align: top;\n",
       "    }\n",
       "\n",
       "    .dataframe thead th {\n",
       "        text-align: right;\n",
       "    }\n",
       "</style>\n",
       "<table border=\"1\" class=\"dataframe\">\n",
       "  <thead>\n",
       "    <tr style=\"text-align: right;\">\n",
       "      <th></th>\n",
       "      <th>Kontrak</th>\n",
       "      <th>Tipe_Kendaraan</th>\n",
       "      <th>Pekerjaan</th>\n",
       "      <th>Area</th>\n",
       "      <th>Tenor</th>\n",
       "      <th>Bucket_Collectability</th>\n",
       "      <th>NPF</th>\n",
       "      <th>Total_AR</th>\n",
       "      <th>LTV</th>\n",
       "      <th>OTR</th>\n",
       "      <th>...</th>\n",
       "      <th>Tujuan</th>\n",
       "      <th>Pendidikan</th>\n",
       "      <th>Tanggungan</th>\n",
       "      <th>Status</th>\n",
       "      <th>Gender</th>\n",
       "      <th>Paket</th>\n",
       "      <th>Inflasi</th>\n",
       "      <th>Segmen</th>\n",
       "      <th>Area_Others</th>\n",
       "      <th>Area_Sumatera</th>\n",
       "    </tr>\n",
       "  </thead>\n",
       "  <tbody>\n",
       "    <tr>\n",
       "      <th>0</th>\n",
       "      <td>1</td>\n",
       "      <td>NON-MINIBUS</td>\n",
       "      <td>Karyawan</td>\n",
       "      <td>Jawa</td>\n",
       "      <td>12</td>\n",
       "      <td>&gt;90 - 120 hari</td>\n",
       "      <td>Ya</td>\n",
       "      <td>2.763126</td>\n",
       "      <td>100.00</td>\n",
       "      <td>2.76</td>\n",
       "      <td>...</td>\n",
       "      <td>Private</td>\n",
       "      <td>Sarjana</td>\n",
       "      <td>Tidak ada</td>\n",
       "      <td>OTHERS</td>\n",
       "      <td>Laki-laki</td>\n",
       "      <td>Ya</td>\n",
       "      <td>3.58</td>\n",
       "      <td>Jasa &amp; Perdagangan</td>\n",
       "      <td>0</td>\n",
       "      <td>0</td>\n",
       "    </tr>\n",
       "    <tr>\n",
       "      <th>1</th>\n",
       "      <td>2</td>\n",
       "      <td>NON-MINIBUS</td>\n",
       "      <td>Wiraswasta</td>\n",
       "      <td>Jawa</td>\n",
       "      <td>12</td>\n",
       "      <td>0 - 30 hari</td>\n",
       "      <td>Tidak</td>\n",
       "      <td>2.805000</td>\n",
       "      <td>103.70</td>\n",
       "      <td>2.71</td>\n",
       "      <td>...</td>\n",
       "      <td>Private</td>\n",
       "      <td>Others</td>\n",
       "      <td>Tidak ada</td>\n",
       "      <td>MENIKAH</td>\n",
       "      <td>Laki-laki</td>\n",
       "      <td>Ya</td>\n",
       "      <td>3.58</td>\n",
       "      <td>Others</td>\n",
       "      <td>0</td>\n",
       "      <td>0</td>\n",
       "    </tr>\n",
       "    <tr>\n",
       "      <th>2</th>\n",
       "      <td>3</td>\n",
       "      <td>NON-MINIBUS</td>\n",
       "      <td>Wiraswasta</td>\n",
       "      <td>Jawa</td>\n",
       "      <td>12</td>\n",
       "      <td>0 - 30 hari</td>\n",
       "      <td>Tidak</td>\n",
       "      <td>3.104000</td>\n",
       "      <td>103.33</td>\n",
       "      <td>3.00</td>\n",
       "      <td>...</td>\n",
       "      <td>Private</td>\n",
       "      <td>Sarjana</td>\n",
       "      <td>Tidak ada</td>\n",
       "      <td>OTHERS</td>\n",
       "      <td>Perempuan</td>\n",
       "      <td>Ya</td>\n",
       "      <td>4.17</td>\n",
       "      <td>Others</td>\n",
       "      <td>0</td>\n",
       "      <td>0</td>\n",
       "    </tr>\n",
       "  </tbody>\n",
       "</table>\n",
       "<p>3 rows × 25 columns</p>\n",
       "</div>"
      ],
      "text/plain": [
       "   Kontrak Tipe_Kendaraan   Pekerjaan  Area  Tenor Bucket_Collectability  \\\n",
       "0        1    NON-MINIBUS    Karyawan  Jawa     12        >90 - 120 hari   \n",
       "1        2    NON-MINIBUS  Wiraswasta  Jawa     12           0 - 30 hari   \n",
       "2        3    NON-MINIBUS  Wiraswasta  Jawa     12           0 - 30 hari   \n",
       "\n",
       "     NPF  Total_AR     LTV   OTR  ...   Tujuan  Pendidikan  Tanggungan  \\\n",
       "0     Ya  2.763126  100.00  2.76  ...  Private     Sarjana   Tidak ada   \n",
       "1  Tidak  2.805000  103.70  2.71  ...  Private      Others   Tidak ada   \n",
       "2  Tidak  3.104000  103.33  3.00  ...  Private     Sarjana   Tidak ada   \n",
       "\n",
       "    Status     Gender Paket Inflasi              Segmen Area_Others  \\\n",
       "0   OTHERS  Laki-laki    Ya    3.58  Jasa & Perdagangan           0   \n",
       "1  MENIKAH  Laki-laki    Ya    3.58              Others           0   \n",
       "2   OTHERS  Perempuan    Ya    4.17              Others           0   \n",
       "\n",
       "  Area_Sumatera  \n",
       "0             0  \n",
       "1             0  \n",
       "2             0  \n",
       "\n",
       "[3 rows x 25 columns]"
      ]
     },
     "execution_count": 35,
     "metadata": {},
     "output_type": "execute_result"
    }
   ],
   "source": [
    "df_edit.head(3)"
   ]
  },
  {
   "cell_type": "markdown",
   "metadata": {},
   "source": [
    "## Sisipan: Mengubah nilai dengan fungsi numpy.where()"
   ]
  },
  {
   "cell_type": "code",
   "execution_count": 36,
   "metadata": {
    "ExecuteTime": {
     "end_time": "2019-10-25T04:04:04.438085Z",
     "start_time": "2019-10-25T04:04:04.098624Z"
    }
   },
   "outputs": [
    {
     "data": {
      "text/plain": [
       "array(['Jawa', 'Jawa', 'Jawa', ..., 'Luar Jawa', 'Luar Jawa', 'Jawa'],\n",
       "      dtype='<U9')"
      ]
     },
     "execution_count": 36,
     "metadata": {},
     "output_type": "execute_result"
    }
   ],
   "source": [
    "np.where(df_edit['Area']=='Jawa', 'Jawa', 'Luar Jawa')"
   ]
  },
  {
   "cell_type": "markdown",
   "metadata": {},
   "source": [
    "## Diskretisasi LTV"
   ]
  },
  {
   "cell_type": "code",
   "execution_count": 40,
   "metadata": {
    "ExecuteTime": {
     "end_time": "2019-10-25T04:07:42.991159Z",
     "start_time": "2019-10-25T04:07:42.977828Z"
    }
   },
   "outputs": [],
   "source": [
    "discrete_LTV = pd.cut(df_edit.LTV, 7)"
   ]
  },
  {
   "cell_type": "code",
   "execution_count": 41,
   "metadata": {
    "ExecuteTime": {
     "end_time": "2019-10-25T04:07:43.517492Z",
     "start_time": "2019-10-25T04:07:43.505690Z"
    }
   },
   "outputs": [
    {
     "data": {
      "text/plain": [
       "0    (96.584, 111.83]\n",
       "1    (96.584, 111.83]\n",
       "2    (96.584, 111.83]\n",
       "3    (96.584, 111.83]\n",
       "4    (96.584, 111.83]\n",
       "Name: LTV, dtype: category\n",
       "Categories (7, interval[float64]): [(5.003, 20.356] < (20.356, 35.601] < (35.601, 50.847] < (50.847, 66.093] < (66.093, 81.339] < (81.339, 96.584] < (96.584, 111.83]]"
      ]
     },
     "execution_count": 41,
     "metadata": {},
     "output_type": "execute_result"
    }
   ],
   "source": [
    "discrete_LTV.head()"
   ]
  },
  {
   "cell_type": "markdown",
   "metadata": {},
   "source": [
    "## Transformasi Income: Standarisasi "
   ]
  },
  {
   "cell_type": "code",
   "execution_count": 43,
   "metadata": {
    "ExecuteTime": {
     "end_time": "2019-10-25T04:11:59.015606Z",
     "start_time": "2019-10-25T04:11:58.914752Z"
    }
   },
   "outputs": [
    {
     "data": {
      "text/plain": [
       "count    28293.000000\n",
       "mean        20.449334\n",
       "std        115.608090\n",
       "min          1.000000\n",
       "25%          9.000000\n",
       "50%         15.000000\n",
       "75%         20.000000\n",
       "max      10000.000000\n",
       "Name: Income, dtype: float64"
      ]
     },
     "execution_count": 43,
     "metadata": {},
     "output_type": "execute_result"
    }
   ],
   "source": [
    "df_edit.describe()['Income']"
   ]
  },
  {
   "cell_type": "code",
   "execution_count": 46,
   "metadata": {
    "ExecuteTime": {
     "end_time": "2019-10-25T04:14:20.904202Z",
     "start_time": "2019-10-25T04:14:20.890551Z"
    }
   },
   "outputs": [],
   "source": [
    "standardized_income = (df_edit['Income'] - df_edit['Income'].mean()) / df_edit['Income'].std()"
   ]
  },
  {
   "cell_type": "code",
   "execution_count": 47,
   "metadata": {
    "ExecuteTime": {
     "end_time": "2019-10-25T04:14:44.025650Z",
     "start_time": "2019-10-25T04:14:44.013198Z"
    }
   },
   "outputs": [
    {
     "data": {
      "text/plain": [
       "0   -0.090386\n",
       "1   -0.047136\n",
       "2   -0.003887\n",
       "3   -0.047136\n",
       "4   -0.003887\n",
       "Name: Income, dtype: float64"
      ]
     },
     "execution_count": 47,
     "metadata": {},
     "output_type": "execute_result"
    }
   ],
   "source": [
    "standardized_income.head()"
   ]
  },
  {
   "cell_type": "code",
   "execution_count": 48,
   "metadata": {
    "ExecuteTime": {
     "end_time": "2019-10-25T04:15:03.602269Z",
     "start_time": "2019-10-25T04:15:03.589642Z"
    }
   },
   "outputs": [
    {
     "data": {
      "text/plain": [
       "0    10\n",
       "1    15\n",
       "2    20\n",
       "3    15\n",
       "4    20\n",
       "Name: Income, dtype: int64"
      ]
     },
     "execution_count": 48,
     "metadata": {},
     "output_type": "execute_result"
    }
   ],
   "source": [
    "df.Income.head()"
   ]
  },
  {
   "cell_type": "code",
   "execution_count": 63,
   "metadata": {
    "ExecuteTime": {
     "end_time": "2019-10-25T04:38:05.465940Z",
     "start_time": "2019-10-25T04:38:05.455966Z"
    }
   },
   "outputs": [
    {
     "data": {
      "text/plain": [
       "count    2.829300e+04\n",
       "mean    -1.084246e-16\n",
       "std      1.000000e+00\n",
       "min     -1.682351e-01\n",
       "25%     -9.903575e-02\n",
       "50%     -4.713627e-02\n",
       "75%     -3.886698e-03\n",
       "max      8.632225e+01\n",
       "Name: Income, dtype: float64"
      ]
     },
     "execution_count": 63,
     "metadata": {},
     "output_type": "execute_result"
    }
   ],
   "source": [
    "standardized_income.describe()"
   ]
  },
  {
   "cell_type": "code",
   "execution_count": 49,
   "metadata": {
    "ExecuteTime": {
     "end_time": "2019-10-25T04:15:41.147517Z",
     "start_time": "2019-10-25T04:15:41.136215Z"
    }
   },
   "outputs": [
    {
     "data": {
      "text/plain": [
       "0.9999999999999594"
      ]
     },
     "execution_count": 49,
     "metadata": {},
     "output_type": "execute_result"
    }
   ],
   "source": [
    "standardized_income.std()"
   ]
  },
  {
   "cell_type": "code",
   "execution_count": 50,
   "metadata": {
    "ExecuteTime": {
     "end_time": "2019-10-25T04:15:55.141270Z",
     "start_time": "2019-10-25T04:15:55.132868Z"
    }
   },
   "outputs": [
    {
     "data": {
      "text/plain": [
       "115.60808970422566"
      ]
     },
     "execution_count": 50,
     "metadata": {},
     "output_type": "execute_result"
    }
   ],
   "source": [
    "df.Income.std()"
   ]
  },
  {
   "cell_type": "code",
   "execution_count": 51,
   "metadata": {
    "ExecuteTime": {
     "end_time": "2019-10-25T04:16:07.763104Z",
     "start_time": "2019-10-25T04:16:06.609020Z"
    }
   },
   "outputs": [],
   "source": [
    "from matplotlib import pyplot as plt"
   ]
  },
  {
   "cell_type": "code",
   "execution_count": 54,
   "metadata": {
    "ExecuteTime": {
     "end_time": "2019-10-25T04:19:13.308316Z",
     "start_time": "2019-10-25T04:19:12.796271Z"
    }
   },
   "outputs": [
    {
     "data": {
      "image/png": "[encoded data removed]",
      "text/plain": [
       "<Figure size 1080x360 with 2 Axes>"
      ]
     },
     "metadata": {
      "needs_background": "light"
     },
     "output_type": "display_data"
    }
   ],
   "source": [
    "#visualization\n",
    "fig, (ax1, ax2) = plt.subplots(1, 2, figsize = (15,5))\n",
    "\n",
    "ax1.hist(df_edit['Income'])\n",
    "ax1.set_title('Income')\n",
    "\n",
    "ax2.hist(standardized_income)\n",
    "ax2.set_title('Standardized Income')\n",
    "\n",
    "plt.show()"
   ]
  },
  {
   "cell_type": "code",
   "execution_count": 55,
   "metadata": {
    "ExecuteTime": {
     "end_time": "2019-10-25T04:22:30.712335Z",
     "start_time": "2019-10-25T04:22:30.696012Z"
    }
   },
   "outputs": [
    {
     "data": {
      "text/plain": [
       "0    2.302585\n",
       "1    2.708050\n",
       "2    2.995732\n",
       "3    2.708050\n",
       "4    2.995732\n",
       "Name: Income, dtype: float64"
      ]
     },
     "execution_count": 55,
     "metadata": {},
     "output_type": "execute_result"
    }
   ],
   "source": [
    "ln_income = np.log(df_edit.Income)\n",
    "ln_income.head()"
   ]
  },
  {
   "cell_type": "code",
   "execution_count": 58,
   "metadata": {
    "ExecuteTime": {
     "end_time": "2019-10-25T04:23:08.536121Z",
     "start_time": "2019-10-25T04:23:08.013365Z"
    }
   },
   "outputs": [
    {
     "data": {
      "image/png": "[encoded data removed]",
      "text/plain": [
       "<Figure size 1080x360 with 2 Axes>"
      ]
     },
     "metadata": {
      "needs_background": "light"
     },
     "output_type": "display_data"
    }
   ],
   "source": [
    "#visualization\n",
    "fig, (ax1, ax2) = plt.subplots(1, 2, figsize = (15,5))\n",
    "\n",
    "ax1.hist(df_edit['Income'])\n",
    "ax1.set_title('Income')\n",
    "\n",
    "ax2.hist(ln_income)\n",
    "ax2.set_title('Standardized Income')\n",
    "\n",
    "plt.show()"
   ]
  },
  {
   "cell_type": "markdown",
   "metadata": {},
   "source": [
    "## Normalisasi Income"
   ]
  },
  {
   "cell_type": "code",
   "execution_count": 60,
   "metadata": {
    "ExecuteTime": {
     "end_time": "2019-10-25T04:26:52.473718Z",
     "start_time": "2019-10-25T04:26:52.455240Z"
    }
   },
   "outputs": [
    {
     "data": {
      "text/plain": [
       "0    0.0009\n",
       "1    0.0014\n",
       "2    0.0019\n",
       "3    0.0014\n",
       "4    0.0019\n",
       "Name: Income, dtype: float64"
      ]
     },
     "execution_count": 60,
     "metadata": {},
     "output_type": "execute_result"
    }
   ],
   "source": [
    "normalized_income = (df_edit['Income'] - df_edit['Income'].min()) / (df_edit['Income'].max() - df_edit['Income'].min())\n",
    "normalized_income.head()"
   ]
  },
  {
   "cell_type": "code",
   "execution_count": 61,
   "metadata": {
    "ExecuteTime": {
     "end_time": "2019-10-25T04:28:40.053035Z",
     "start_time": "2019-10-25T04:28:40.029440Z"
    }
   },
   "outputs": [
    {
     "data": {
      "text/plain": [
       "count    28293.000000\n",
       "mean         0.001945\n",
       "std          0.011562\n",
       "min          0.000000\n",
       "25%          0.000800\n",
       "50%          0.001400\n",
       "75%          0.001900\n",
       "max          1.000000\n",
       "Name: Income, dtype: float64"
      ]
     },
     "execution_count": 61,
     "metadata": {},
     "output_type": "execute_result"
    }
   ],
   "source": [
    "normalized_income.describe()"
   ]
  },
  {
   "cell_type": "code",
   "execution_count": 62,
   "metadata": {
    "ExecuteTime": {
     "end_time": "2019-10-25T04:29:47.417843Z",
     "start_time": "2019-10-25T04:29:46.886222Z"
    }
   },
   "outputs": [
    {
     "data": {
      "image/png": "[encoded data removed]",
      "text/plain": [
       "<Figure size 1080x360 with 2 Axes>"
      ]
     },
     "metadata": {
      "needs_background": "light"
     },
     "output_type": "display_data"
    }
   ],
   "source": [
    "#visualization\n",
    "fig, (ax1, ax2) = plt.subplots(1, 2, figsize = (15,5))\n",
    "\n",
    "ax1.hist(df_edit['Income'])\n",
    "ax1.set_title('Income')\n",
    "\n",
    "ax2.hist(normalized_income)\n",
    "ax2.set_title('Normalized Income')\n",
    "\n",
    "plt.show()"
   ]
  },
  {
   "cell_type": "markdown",
   "metadata": {},
   "source": [
    "## Mendeteksi Outliers"
   ]
  },
  {
   "cell_type": "markdown",
   "metadata": {},
   "source": [
    "**Z Score**"
   ]
  },
  {
   "cell_type": "code",
   "execution_count": 65,
   "metadata": {
    "ExecuteTime": {
     "end_time": "2019-10-25T07:04:00.948117Z",
     "start_time": "2019-10-25T07:04:00.939997Z"
    }
   },
   "outputs": [],
   "source": [
    "z_income = copy.deepcopy(standardized_income)"
   ]
  },
  {
   "cell_type": "code",
   "execution_count": 66,
   "metadata": {
    "ExecuteTime": {
     "end_time": "2019-10-25T07:05:34.197249Z",
     "start_time": "2019-10-25T07:05:32.056704Z"
    }
   },
   "outputs": [
    {
     "data": {
      "text/html": [
       "<div>\n",
       "<style scoped>\n",
       "    .dataframe tbody tr th:only-of-type {\n",
       "        vertical-align: middle;\n",
       "    }\n",
       "\n",
       "    .dataframe tbody tr th {\n",
       "        vertical-align: top;\n",
       "    }\n",
       "\n",
       "    .dataframe thead th {\n",
       "        text-align: right;\n",
       "    }\n",
       "</style>\n",
       "<table border=\"1\" class=\"dataframe\">\n",
       "  <thead>\n",
       "    <tr style=\"text-align: right;\">\n",
       "      <th></th>\n",
       "      <th>Kontrak</th>\n",
       "      <th>Income</th>\n",
       "    </tr>\n",
       "  </thead>\n",
       "  <tbody>\n",
       "    <tr>\n",
       "      <th>4559</th>\n",
       "      <td>4560</td>\n",
       "      <td>1500</td>\n",
       "    </tr>\n",
       "    <tr>\n",
       "      <th>4611</th>\n",
       "      <td>4612</td>\n",
       "      <td>1000</td>\n",
       "    </tr>\n",
       "    <tr>\n",
       "      <th>4898</th>\n",
       "      <td>4899</td>\n",
       "      <td>500</td>\n",
       "    </tr>\n",
       "    <tr>\n",
       "      <th>4899</th>\n",
       "      <td>4900</td>\n",
       "      <td>500</td>\n",
       "    </tr>\n",
       "    <tr>\n",
       "      <th>4943</th>\n",
       "      <td>4944</td>\n",
       "      <td>500</td>\n",
       "    </tr>\n",
       "    <tr>\n",
       "      <th>4944</th>\n",
       "      <td>4945</td>\n",
       "      <td>500</td>\n",
       "    </tr>\n",
       "    <tr>\n",
       "      <th>4945</th>\n",
       "      <td>4946</td>\n",
       "      <td>500</td>\n",
       "    </tr>\n",
       "    <tr>\n",
       "      <th>5073</th>\n",
       "      <td>5074</td>\n",
       "      <td>10000</td>\n",
       "    </tr>\n",
       "    <tr>\n",
       "      <th>7457</th>\n",
       "      <td>7458</td>\n",
       "      <td>430</td>\n",
       "    </tr>\n",
       "    <tr>\n",
       "      <th>8291</th>\n",
       "      <td>8292</td>\n",
       "      <td>700</td>\n",
       "    </tr>\n",
       "    <tr>\n",
       "      <th>8700</th>\n",
       "      <td>8701</td>\n",
       "      <td>500</td>\n",
       "    </tr>\n",
       "    <tr>\n",
       "      <th>9062</th>\n",
       "      <td>9063</td>\n",
       "      <td>1000</td>\n",
       "    </tr>\n",
       "    <tr>\n",
       "      <th>12696</th>\n",
       "      <td>12697</td>\n",
       "      <td>1000</td>\n",
       "    </tr>\n",
       "    <tr>\n",
       "      <th>13273</th>\n",
       "      <td>13274</td>\n",
       "      <td>500</td>\n",
       "    </tr>\n",
       "    <tr>\n",
       "      <th>13842</th>\n",
       "      <td>13843</td>\n",
       "      <td>500</td>\n",
       "    </tr>\n",
       "    <tr>\n",
       "      <th>16376</th>\n",
       "      <td>16377</td>\n",
       "      <td>2000</td>\n",
       "    </tr>\n",
       "    <tr>\n",
       "      <th>17246</th>\n",
       "      <td>17247</td>\n",
       "      <td>500</td>\n",
       "    </tr>\n",
       "    <tr>\n",
       "      <th>17440</th>\n",
       "      <td>17441</td>\n",
       "      <td>1000</td>\n",
       "    </tr>\n",
       "    <tr>\n",
       "      <th>22124</th>\n",
       "      <td>22125</td>\n",
       "      <td>2000</td>\n",
       "    </tr>\n",
       "    <tr>\n",
       "      <th>22175</th>\n",
       "      <td>22176</td>\n",
       "      <td>500</td>\n",
       "    </tr>\n",
       "    <tr>\n",
       "      <th>22649</th>\n",
       "      <td>22650</td>\n",
       "      <td>1000</td>\n",
       "    </tr>\n",
       "    <tr>\n",
       "      <th>23403</th>\n",
       "      <td>23404</td>\n",
       "      <td>500</td>\n",
       "    </tr>\n",
       "    <tr>\n",
       "      <th>23477</th>\n",
       "      <td>23478</td>\n",
       "      <td>8000</td>\n",
       "    </tr>\n",
       "    <tr>\n",
       "      <th>23836</th>\n",
       "      <td>23837</td>\n",
       "      <td>1000</td>\n",
       "    </tr>\n",
       "    <tr>\n",
       "      <th>23948</th>\n",
       "      <td>23949</td>\n",
       "      <td>400</td>\n",
       "    </tr>\n",
       "    <tr>\n",
       "      <th>24081</th>\n",
       "      <td>24082</td>\n",
       "      <td>1000</td>\n",
       "    </tr>\n",
       "    <tr>\n",
       "      <th>24380</th>\n",
       "      <td>24381</td>\n",
       "      <td>400</td>\n",
       "    </tr>\n",
       "    <tr>\n",
       "      <th>24445</th>\n",
       "      <td>24446</td>\n",
       "      <td>500</td>\n",
       "    </tr>\n",
       "    <tr>\n",
       "      <th>24598</th>\n",
       "      <td>24599</td>\n",
       "      <td>500</td>\n",
       "    </tr>\n",
       "    <tr>\n",
       "      <th>24676</th>\n",
       "      <td>24677</td>\n",
       "      <td>500</td>\n",
       "    </tr>\n",
       "    <tr>\n",
       "      <th>24927</th>\n",
       "      <td>24928</td>\n",
       "      <td>1000</td>\n",
       "    </tr>\n",
       "    <tr>\n",
       "      <th>25365</th>\n",
       "      <td>25366</td>\n",
       "      <td>500</td>\n",
       "    </tr>\n",
       "    <tr>\n",
       "      <th>25366</th>\n",
       "      <td>25367</td>\n",
       "      <td>500</td>\n",
       "    </tr>\n",
       "    <tr>\n",
       "      <th>25367</th>\n",
       "      <td>25368</td>\n",
       "      <td>500</td>\n",
       "    </tr>\n",
       "    <tr>\n",
       "      <th>25551</th>\n",
       "      <td>25552</td>\n",
       "      <td>500</td>\n",
       "    </tr>\n",
       "    <tr>\n",
       "      <th>25552</th>\n",
       "      <td>25553</td>\n",
       "      <td>500</td>\n",
       "    </tr>\n",
       "    <tr>\n",
       "      <th>25834</th>\n",
       "      <td>25835</td>\n",
       "      <td>1000</td>\n",
       "    </tr>\n",
       "    <tr>\n",
       "      <th>25836</th>\n",
       "      <td>25837</td>\n",
       "      <td>500</td>\n",
       "    </tr>\n",
       "    <tr>\n",
       "      <th>25995</th>\n",
       "      <td>25996</td>\n",
       "      <td>10000</td>\n",
       "    </tr>\n",
       "    <tr>\n",
       "      <th>26081</th>\n",
       "      <td>26082</td>\n",
       "      <td>500</td>\n",
       "    </tr>\n",
       "    <tr>\n",
       "      <th>27443</th>\n",
       "      <td>27444</td>\n",
       "      <td>8779</td>\n",
       "    </tr>\n",
       "    <tr>\n",
       "      <th>27719</th>\n",
       "      <td>27720</td>\n",
       "      <td>1000</td>\n",
       "    </tr>\n",
       "    <tr>\n",
       "      <th>27758</th>\n",
       "      <td>27759</td>\n",
       "      <td>500</td>\n",
       "    </tr>\n",
       "  </tbody>\n",
       "</table>\n",
       "</div>"
      ],
      "text/plain": [
       "       Kontrak  Income\n",
       "4559      4560    1500\n",
       "4611      4612    1000\n",
       "4898      4899     500\n",
       "4899      4900     500\n",
       "4943      4944     500\n",
       "4944      4945     500\n",
       "4945      4946     500\n",
       "5073      5074   10000\n",
       "7457      7458     430\n",
       "8291      8292     700\n",
       "8700      8701     500\n",
       "9062      9063    1000\n",
       "12696    12697    1000\n",
       "13273    13274     500\n",
       "13842    13843     500\n",
       "16376    16377    2000\n",
       "17246    17247     500\n",
       "17440    17441    1000\n",
       "22124    22125    2000\n",
       "22175    22176     500\n",
       "22649    22650    1000\n",
       "23403    23404     500\n",
       "23477    23478    8000\n",
       "23836    23837    1000\n",
       "23948    23949     400\n",
       "24081    24082    1000\n",
       "24380    24381     400\n",
       "24445    24446     500\n",
       "24598    24599     500\n",
       "24676    24677     500\n",
       "24927    24928    1000\n",
       "25365    25366     500\n",
       "25366    25367     500\n",
       "25367    25368     500\n",
       "25551    25552     500\n",
       "25552    25553     500\n",
       "25834    25835    1000\n",
       "25836    25837     500\n",
       "25995    25996   10000\n",
       "26081    26082     500\n",
       "27443    27444    8779\n",
       "27719    27720    1000\n",
       "27758    27759     500"
      ]
     },
     "execution_count": 66,
     "metadata": {},
     "output_type": "execute_result"
    }
   ],
   "source": [
    "df_edit[['Kontrak', 'Income']][np.abs(z_income) > 3]"
   ]
  },
  {
   "cell_type": "code",
   "execution_count": 69,
   "metadata": {
    "ExecuteTime": {
     "end_time": "2019-10-25T07:20:44.910453Z",
     "start_time": "2019-10-25T07:20:44.898189Z"
    }
   },
   "outputs": [
    {
     "data": {
      "text/plain": [
       "11.0"
      ]
     },
     "execution_count": 69,
     "metadata": {},
     "output_type": "execute_result"
    }
   ],
   "source": [
    "import scipy.stats as sct\n",
    "sct.iqr(df.Income)"
   ]
  },
  {
   "cell_type": "code",
   "execution_count": 72,
   "metadata": {
    "ExecuteTime": {
     "end_time": "2019-10-25T07:23:54.945412Z",
     "start_time": "2019-10-25T07:23:54.611702Z"
    }
   },
   "outputs": [
    {
     "name": "stdout",
     "output_type": "stream",
     "text": [
      "11.0\n"
     ]
    }
   ],
   "source": [
    "q1_income = df_edit['Income'].quantile(0.25)\n",
    "q3_income = df_edit['Income'].quantile(0.75)\n",
    "iqr_income = q3_income - q1_income\n",
    "print(iqr_income)"
   ]
  },
  {
   "cell_type": "code",
   "execution_count": 76,
   "metadata": {
    "ExecuteTime": {
     "end_time": "2019-10-25T07:26:38.722695Z",
     "start_time": "2019-10-25T07:26:38.696756Z"
    }
   },
   "outputs": [
    {
     "data": {
      "text/html": [
       "<div>\n",
       "<style scoped>\n",
       "    .dataframe tbody tr th:only-of-type {\n",
       "        vertical-align: middle;\n",
       "    }\n",
       "\n",
       "    .dataframe tbody tr th {\n",
       "        vertical-align: top;\n",
       "    }\n",
       "\n",
       "    .dataframe thead th {\n",
       "        text-align: right;\n",
       "    }\n",
       "</style>\n",
       "<table border=\"1\" class=\"dataframe\">\n",
       "  <thead>\n",
       "    <tr style=\"text-align: right;\">\n",
       "      <th></th>\n",
       "      <th>Kontrak</th>\n",
       "      <th>Income</th>\n",
       "    </tr>\n",
       "  </thead>\n",
       "  <tbody>\n",
       "    <tr>\n",
       "      <th>86</th>\n",
       "      <td>87</td>\n",
       "      <td>50</td>\n",
       "    </tr>\n",
       "    <tr>\n",
       "      <th>126</th>\n",
       "      <td>127</td>\n",
       "      <td>100</td>\n",
       "    </tr>\n",
       "    <tr>\n",
       "      <th>127</th>\n",
       "      <td>128</td>\n",
       "      <td>60</td>\n",
       "    </tr>\n",
       "    <tr>\n",
       "      <th>187</th>\n",
       "      <td>188</td>\n",
       "      <td>50</td>\n",
       "    </tr>\n",
       "    <tr>\n",
       "      <th>204</th>\n",
       "      <td>205</td>\n",
       "      <td>40</td>\n",
       "    </tr>\n",
       "    <tr>\n",
       "      <th>208</th>\n",
       "      <td>209</td>\n",
       "      <td>50</td>\n",
       "    </tr>\n",
       "    <tr>\n",
       "      <th>210</th>\n",
       "      <td>211</td>\n",
       "      <td>50</td>\n",
       "    </tr>\n",
       "    <tr>\n",
       "      <th>247</th>\n",
       "      <td>248</td>\n",
       "      <td>50</td>\n",
       "    </tr>\n",
       "    <tr>\n",
       "      <th>261</th>\n",
       "      <td>262</td>\n",
       "      <td>50</td>\n",
       "    </tr>\n",
       "    <tr>\n",
       "      <th>313</th>\n",
       "      <td>314</td>\n",
       "      <td>60</td>\n",
       "    </tr>\n",
       "    <tr>\n",
       "      <th>334</th>\n",
       "      <td>335</td>\n",
       "      <td>50</td>\n",
       "    </tr>\n",
       "    <tr>\n",
       "      <th>336</th>\n",
       "      <td>337</td>\n",
       "      <td>50</td>\n",
       "    </tr>\n",
       "    <tr>\n",
       "      <th>353</th>\n",
       "      <td>354</td>\n",
       "      <td>50</td>\n",
       "    </tr>\n",
       "    <tr>\n",
       "      <th>371</th>\n",
       "      <td>372</td>\n",
       "      <td>80</td>\n",
       "    </tr>\n",
       "    <tr>\n",
       "      <th>382</th>\n",
       "      <td>383</td>\n",
       "      <td>50</td>\n",
       "    </tr>\n",
       "    <tr>\n",
       "      <th>383</th>\n",
       "      <td>384</td>\n",
       "      <td>50</td>\n",
       "    </tr>\n",
       "    <tr>\n",
       "      <th>384</th>\n",
       "      <td>385</td>\n",
       "      <td>50</td>\n",
       "    </tr>\n",
       "    <tr>\n",
       "      <th>408</th>\n",
       "      <td>409</td>\n",
       "      <td>50</td>\n",
       "    </tr>\n",
       "    <tr>\n",
       "      <th>425</th>\n",
       "      <td>426</td>\n",
       "      <td>50</td>\n",
       "    </tr>\n",
       "    <tr>\n",
       "      <th>434</th>\n",
       "      <td>435</td>\n",
       "      <td>50</td>\n",
       "    </tr>\n",
       "    <tr>\n",
       "      <th>436</th>\n",
       "      <td>437</td>\n",
       "      <td>50</td>\n",
       "    </tr>\n",
       "    <tr>\n",
       "      <th>452</th>\n",
       "      <td>453</td>\n",
       "      <td>100</td>\n",
       "    </tr>\n",
       "    <tr>\n",
       "      <th>453</th>\n",
       "      <td>454</td>\n",
       "      <td>100</td>\n",
       "    </tr>\n",
       "    <tr>\n",
       "      <th>482</th>\n",
       "      <td>483</td>\n",
       "      <td>50</td>\n",
       "    </tr>\n",
       "    <tr>\n",
       "      <th>516</th>\n",
       "      <td>517</td>\n",
       "      <td>350</td>\n",
       "    </tr>\n",
       "    <tr>\n",
       "      <th>539</th>\n",
       "      <td>540</td>\n",
       "      <td>50</td>\n",
       "    </tr>\n",
       "    <tr>\n",
       "      <th>561</th>\n",
       "      <td>562</td>\n",
       "      <td>47</td>\n",
       "    </tr>\n",
       "    <tr>\n",
       "      <th>565</th>\n",
       "      <td>566</td>\n",
       "      <td>50</td>\n",
       "    </tr>\n",
       "    <tr>\n",
       "      <th>600</th>\n",
       "      <td>601</td>\n",
       "      <td>50</td>\n",
       "    </tr>\n",
       "    <tr>\n",
       "      <th>628</th>\n",
       "      <td>629</td>\n",
       "      <td>60</td>\n",
       "    </tr>\n",
       "    <tr>\n",
       "      <th>...</th>\n",
       "      <td>...</td>\n",
       "      <td>...</td>\n",
       "    </tr>\n",
       "    <tr>\n",
       "      <th>27775</th>\n",
       "      <td>27776</td>\n",
       "      <td>50</td>\n",
       "    </tr>\n",
       "    <tr>\n",
       "      <th>27782</th>\n",
       "      <td>27783</td>\n",
       "      <td>50</td>\n",
       "    </tr>\n",
       "    <tr>\n",
       "      <th>27783</th>\n",
       "      <td>27784</td>\n",
       "      <td>50</td>\n",
       "    </tr>\n",
       "    <tr>\n",
       "      <th>27786</th>\n",
       "      <td>27787</td>\n",
       "      <td>45</td>\n",
       "    </tr>\n",
       "    <tr>\n",
       "      <th>27797</th>\n",
       "      <td>27798</td>\n",
       "      <td>50</td>\n",
       "    </tr>\n",
       "    <tr>\n",
       "      <th>27799</th>\n",
       "      <td>27800</td>\n",
       "      <td>40</td>\n",
       "    </tr>\n",
       "    <tr>\n",
       "      <th>27805</th>\n",
       "      <td>27806</td>\n",
       "      <td>50</td>\n",
       "    </tr>\n",
       "    <tr>\n",
       "      <th>27806</th>\n",
       "      <td>27807</td>\n",
       "      <td>50</td>\n",
       "    </tr>\n",
       "    <tr>\n",
       "      <th>27808</th>\n",
       "      <td>27809</td>\n",
       "      <td>50</td>\n",
       "    </tr>\n",
       "    <tr>\n",
       "      <th>27813</th>\n",
       "      <td>27814</td>\n",
       "      <td>50</td>\n",
       "    </tr>\n",
       "    <tr>\n",
       "      <th>27818</th>\n",
       "      <td>27819</td>\n",
       "      <td>50</td>\n",
       "    </tr>\n",
       "    <tr>\n",
       "      <th>27840</th>\n",
       "      <td>27841</td>\n",
       "      <td>65</td>\n",
       "    </tr>\n",
       "    <tr>\n",
       "      <th>27847</th>\n",
       "      <td>27848</td>\n",
       "      <td>40</td>\n",
       "    </tr>\n",
       "    <tr>\n",
       "      <th>27854</th>\n",
       "      <td>27855</td>\n",
       "      <td>40</td>\n",
       "    </tr>\n",
       "    <tr>\n",
       "      <th>27857</th>\n",
       "      <td>27858</td>\n",
       "      <td>100</td>\n",
       "    </tr>\n",
       "    <tr>\n",
       "      <th>27860</th>\n",
       "      <td>27861</td>\n",
       "      <td>45</td>\n",
       "    </tr>\n",
       "    <tr>\n",
       "      <th>27867</th>\n",
       "      <td>27868</td>\n",
       "      <td>50</td>\n",
       "    </tr>\n",
       "    <tr>\n",
       "      <th>27886</th>\n",
       "      <td>27887</td>\n",
       "      <td>50</td>\n",
       "    </tr>\n",
       "    <tr>\n",
       "      <th>27899</th>\n",
       "      <td>27900</td>\n",
       "      <td>50</td>\n",
       "    </tr>\n",
       "    <tr>\n",
       "      <th>27930</th>\n",
       "      <td>27931</td>\n",
       "      <td>50</td>\n",
       "    </tr>\n",
       "    <tr>\n",
       "      <th>27934</th>\n",
       "      <td>27935</td>\n",
       "      <td>75</td>\n",
       "    </tr>\n",
       "    <tr>\n",
       "      <th>27954</th>\n",
       "      <td>27955</td>\n",
       "      <td>50</td>\n",
       "    </tr>\n",
       "    <tr>\n",
       "      <th>27955</th>\n",
       "      <td>27956</td>\n",
       "      <td>75</td>\n",
       "    </tr>\n",
       "    <tr>\n",
       "      <th>27968</th>\n",
       "      <td>27969</td>\n",
       "      <td>45</td>\n",
       "    </tr>\n",
       "    <tr>\n",
       "      <th>28004</th>\n",
       "      <td>28005</td>\n",
       "      <td>50</td>\n",
       "    </tr>\n",
       "    <tr>\n",
       "      <th>28076</th>\n",
       "      <td>28077</td>\n",
       "      <td>50</td>\n",
       "    </tr>\n",
       "    <tr>\n",
       "      <th>28083</th>\n",
       "      <td>28084</td>\n",
       "      <td>50</td>\n",
       "    </tr>\n",
       "    <tr>\n",
       "      <th>28274</th>\n",
       "      <td>28275</td>\n",
       "      <td>100</td>\n",
       "    </tr>\n",
       "    <tr>\n",
       "      <th>28276</th>\n",
       "      <td>28277</td>\n",
       "      <td>50</td>\n",
       "    </tr>\n",
       "    <tr>\n",
       "      <th>28281</th>\n",
       "      <td>28282</td>\n",
       "      <td>50</td>\n",
       "    </tr>\n",
       "  </tbody>\n",
       "</table>\n",
       "<p>2066 rows × 2 columns</p>\n",
       "</div>"
      ],
      "text/plain": [
       "       Kontrak  Income\n",
       "86          87      50\n",
       "126        127     100\n",
       "127        128      60\n",
       "187        188      50\n",
       "204        205      40\n",
       "208        209      50\n",
       "210        211      50\n",
       "247        248      50\n",
       "261        262      50\n",
       "313        314      60\n",
       "334        335      50\n",
       "336        337      50\n",
       "353        354      50\n",
       "371        372      80\n",
       "382        383      50\n",
       "383        384      50\n",
       "384        385      50\n",
       "408        409      50\n",
       "425        426      50\n",
       "434        435      50\n",
       "436        437      50\n",
       "452        453     100\n",
       "453        454     100\n",
       "482        483      50\n",
       "516        517     350\n",
       "539        540      50\n",
       "561        562      47\n",
       "565        566      50\n",
       "600        601      50\n",
       "628        629      60\n",
       "...        ...     ...\n",
       "27775    27776      50\n",
       "27782    27783      50\n",
       "27783    27784      50\n",
       "27786    27787      45\n",
       "27797    27798      50\n",
       "27799    27800      40\n",
       "27805    27806      50\n",
       "27806    27807      50\n",
       "27808    27809      50\n",
       "27813    27814      50\n",
       "27818    27819      50\n",
       "27840    27841      65\n",
       "27847    27848      40\n",
       "27854    27855      40\n",
       "27857    27858     100\n",
       "27860    27861      45\n",
       "27867    27868      50\n",
       "27886    27887      50\n",
       "27899    27900      50\n",
       "27930    27931      50\n",
       "27934    27935      75\n",
       "27954    27955      50\n",
       "27955    27956      75\n",
       "27968    27969      45\n",
       "28004    28005      50\n",
       "28076    28077      50\n",
       "28083    28084      50\n",
       "28274    28275     100\n",
       "28276    28277      50\n",
       "28281    28282      50\n",
       "\n",
       "[2066 rows x 2 columns]"
      ]
     },
     "execution_count": 76,
     "metadata": {},
     "output_type": "execute_result"
    }
   ],
   "source": [
    "df_edit[['Kontrak', 'Income']][(df_edit.Income < (q1_income - 1.5 * iqr_income)) |\n",
    "                              (df_edit.Income > (q3_income + 1.5 * iqr_income))]"
   ]
  },
  {
   "cell_type": "code",
   "execution_count": 77,
   "metadata": {
    "ExecuteTime": {
     "end_time": "2019-10-25T07:29:19.857444Z",
     "start_time": "2019-10-25T07:29:19.218229Z"
    }
   },
   "outputs": [
    {
     "data": {
      "text/plain": [
       "<matplotlib.axes._subplots.AxesSubplot at 0x12b4605aba8>"
      ]
     },
     "execution_count": 77,
     "metadata": {},
     "output_type": "execute_result"
    },
    {
     "data": {
      "image/png": "[encoded data removed]",
      "text/plain": [
       "<Figure size 432x288 with 1 Axes>"
      ]
     },
     "metadata": {
      "needs_background": "light"
     },
     "output_type": "display_data"
    }
   ],
   "source": [
    "df_edit.boxplot(column='Income')"
   ]
  },
  {
   "cell_type": "markdown",
   "metadata": {},
   "source": [
    "## Hypothesis Testing"
   ]
  },
  {
   "cell_type": "code",
   "execution_count": 78,
   "metadata": {
    "ExecuteTime": {
     "end_time": "2019-10-25T08:40:43.349105Z",
     "start_time": "2019-10-25T08:40:43.345115Z"
    }
   },
   "outputs": [],
   "source": [
    "from scipy.stats import ttest_ind"
   ]
  },
  {
   "cell_type": "code",
   "execution_count": 79,
   "metadata": {
    "ExecuteTime": {
     "end_time": "2019-10-25T08:46:22.720026Z",
     "start_time": "2019-10-25T08:46:22.710053Z"
    }
   },
   "outputs": [],
   "source": [
    "x1 = df_edit['Income'][df_edit['NPF'] == 'Ya']\n",
    "x2 = df_edit['Income'][df_edit['NPF'] != 'Ya']"
   ]
  },
  {
   "cell_type": "code",
   "execution_count": 80,
   "metadata": {
    "ExecuteTime": {
     "end_time": "2019-10-25T08:55:52.654238Z",
     "start_time": "2019-10-25T08:55:52.538450Z"
    }
   },
   "outputs": [
    {
     "data": {
      "text/plain": [
       "Ttest_indResult(statistic=1.1605323548958912, pvalue=0.2458419213508887)"
      ]
     },
     "execution_count": 80,
     "metadata": {},
     "output_type": "execute_result"
    }
   ],
   "source": [
    "ttest_ind(x1, x2, equal_var = True) # assuming equal variances"
   ]
  },
  {
   "cell_type": "markdown",
   "metadata": {},
   "source": [
    "**Interpretasi** <br>\n",
    "Karena p-value > 0.05 maka H0 gagal ditolak, sehingga dapat disimpulkan bahwa rata-rata income kelompok NPF dan tidak NPF tidak berbeda secara signifikan."
   ]
  },
  {
   "cell_type": "code",
   "execution_count": 81,
   "metadata": {
    "ExecuteTime": {
     "end_time": "2019-10-25T08:58:52.560189Z",
     "start_time": "2019-10-25T08:58:52.556200Z"
    }
   },
   "outputs": [
    {
     "name": "stdout",
     "output_type": "stream",
     "text": [
      "standard deviations of x1 = 160.307 and x2 = 37.691\n"
     ]
    }
   ],
   "source": [
    "print('standard deviations of x1 = %.3f and x2 = %.3f' %(x1.std(), x2.std()))"
   ]
  },
  {
   "cell_type": "markdown",
   "metadata": {},
   "source": [
    "Karena deviasi standar x1 dua kali lebih besar daripada x2 maka kita tidak bisa mengasumsikan variance sama, sehingga perlu diasumsikan variance antara income NPF dan tidak NPF berbeda."
   ]
  },
  {
   "cell_type": "code",
   "execution_count": 82,
   "metadata": {
    "ExecuteTime": {
     "end_time": "2019-10-25T09:01:07.639291Z",
     "start_time": "2019-10-25T09:01:07.632311Z"
    }
   },
   "outputs": [
    {
     "data": {
      "text/plain": [
       "Ttest_indResult(statistic=1.1440147059898442, pvalue=0.25263531221651053)"
      ]
     },
     "execution_count": 82,
     "metadata": {},
     "output_type": "execute_result"
    }
   ],
   "source": [
    "ttest_ind(x1, x2, equal_var = False) #assuming different variances"
   ]
  },
  {
   "cell_type": "markdown",
   "metadata": {},
   "source": [
    "Meskipun kesimpulan yang dihasilkan sama, tetapi asumsi yang digunakan pada pengujian kedua lebih tepat. "
   ]
  },
  {
   "cell_type": "markdown",
   "metadata": {},
   "source": [
    "## Regresi linear sederhana"
   ]
  },
  {
   "cell_type": "code",
   "execution_count": 84,
   "metadata": {
    "ExecuteTime": {
     "end_time": "2019-10-25T09:04:17.619208Z",
     "start_time": "2019-10-25T09:04:16.126980Z"
    }
   },
   "outputs": [],
   "source": [
    "from sklearn.model_selection import train_test_split\n",
    "from sklearn.linear_model import LinearRegression\n",
    "from sklearn import metrics"
   ]
  },
  {
   "cell_type": "code",
   "execution_count": 85,
   "metadata": {
    "ExecuteTime": {
     "end_time": "2019-10-25T09:05:50.994923Z",
     "start_time": "2019-10-25T09:05:50.990934Z"
    }
   },
   "outputs": [],
   "source": [
    "# input dataset\n",
    "x = df_edit['Income']\n",
    "y = df_edit['Total_AR']"
   ]
  },
  {
   "cell_type": "code",
   "execution_count": 86,
   "metadata": {
    "ExecuteTime": {
     "end_time": "2019-10-25T09:06:43.627985Z",
     "start_time": "2019-10-25T09:06:43.623996Z"
    }
   },
   "outputs": [],
   "source": [
    "# change data structure\n",
    "x = x.to_numpy().reshape(-1,1)\n",
    "y = y.to_numpy().reshape(-1,1)"
   ]
  },
  {
   "cell_type": "code",
   "execution_count": 87,
   "metadata": {
    "ExecuteTime": {
     "end_time": "2019-10-25T09:07:55.735489Z",
     "start_time": "2019-10-25T09:07:55.115043Z"
    }
   },
   "outputs": [
    {
     "data": {
      "text/plain": [
       "LinearRegression(copy_X=True, fit_intercept=True, n_jobs=None,\n",
       "         normalize=False)"
      ]
     },
     "execution_count": 87,
     "metadata": {},
     "output_type": "execute_result"
    }
   ],
   "source": [
    "regressor = LinearRegression()\n",
    "regressor.fit(x,y) # training the algorithm"
   ]
  },
  {
   "cell_type": "code",
   "execution_count": 90,
   "metadata": {
    "ExecuteTime": {
     "end_time": "2019-10-25T09:10:05.841244Z",
     "start_time": "2019-10-25T09:10:05.836258Z"
    }
   },
   "outputs": [
    {
     "name": "stdout",
     "output_type": "stream",
     "text": [
      "y = 213.955 + 0.040 X\n"
     ]
    }
   ],
   "source": [
    "# regression equation\n",
    "print('y = %.3f + %.3f X' %(regressor.intercept_, regressor.coef_))"
   ]
  },
  {
   "cell_type": "code",
   "execution_count": 91,
   "metadata": {
    "ExecuteTime": {
     "end_time": "2019-10-25T09:18:08.164861Z",
     "start_time": "2019-10-25T09:18:07.848061Z"
    }
   },
   "outputs": [
    {
     "name": "stdout",
     "output_type": "stream",
     "text": [
      "R2 = 0.003\n",
      "RMSE = 88.263\n"
     ]
    }
   ],
   "source": [
    "# regression equation\n",
    "y_pred = regressor.predict(x)\n",
    "print('R2 = %.3f' %metrics.r2_score(y, y_pred))\n",
    "rmse = np.sqrt(metrics.mean_squared_error(y, y_pred))\n",
    "print('RMSE = %.3f' %rmse)"
   ]
  },
  {
   "cell_type": "markdown",
   "metadata": {},
   "source": [
    "## Pemodelan dengan statsmodels"
   ]
  },
  {
   "cell_type": "code",
   "execution_count": 92,
   "metadata": {
    "ExecuteTime": {
     "end_time": "2019-10-25T09:19:03.581383Z",
     "start_time": "2019-10-25T09:19:03.571411Z"
    }
   },
   "outputs": [],
   "source": [
    "mc = pd.read_excel(r'data microchip.xlsx')"
   ]
  },
  {
   "cell_type": "code",
   "execution_count": 94,
   "metadata": {
    "ExecuteTime": {
     "end_time": "2019-10-25T09:19:56.308014Z",
     "start_time": "2019-10-25T09:19:55.071090Z"
    }
   },
   "outputs": [],
   "source": [
    "import statsmodels.formula.api as smf"
   ]
  },
  {
   "cell_type": "markdown",
   "metadata": {},
   "source": [
    "**Regresi pengaruh waktu terhadap jumlah komponen**"
   ]
  },
  {
   "cell_type": "code",
   "execution_count": 98,
   "metadata": {
    "ExecuteTime": {
     "end_time": "2019-10-25T09:24:28.515148Z",
     "start_time": "2019-10-25T09:24:27.888997Z"
    }
   },
   "outputs": [
    {
     "name": "stdout",
     "output_type": "stream",
     "text": [
      "                            OLS Regression Results                            \n",
      "==============================================================================\n",
      "Dep. Variable:               Total_AR   R-squared:                       0.003\n",
      "Model:                            OLS   Adj. R-squared:                  0.003\n",
      "Method:                 Least Squares   F-statistic:                     78.35\n",
      "Date:                Fri, 25 Oct 2019   Prob (F-statistic):           9.10e-19\n",
      "Time:                        16:24:28   Log-Likelihood:            -1.6691e+05\n",
      "No. Observations:               28293   AIC:                         3.338e+05\n",
      "Df Residuals:                   28291   BIC:                         3.338e+05\n",
      "Df Model:                           1                                         \n",
      "Covariance Type:            nonrobust                                         \n",
      "==============================================================================\n",
      "                 coef    std err          t      P>|t|      [0.025      0.975]\n",
      "------------------------------------------------------------------------------\n",
      "Intercept    213.9555      0.533    401.495      0.000     212.911     215.000\n",
      "Income         0.0402      0.005      8.852      0.000       0.031       0.049\n",
      "==============================================================================\n",
      "Omnibus:                    11123.377   Durbin-Watson:                   0.123\n",
      "Prob(Omnibus):                  0.000   Jarque-Bera (JB):           142335.490\n",
      "Skew:                           1.533   Prob(JB):                         0.00\n",
      "Kurtosis:                      13.552   Cond. No.                         119.\n",
      "==============================================================================\n",
      "\n",
      "Warnings:\n",
      "[1] Standard Errors assume that the covariance matrix of the errors is correctly specified.\n"
     ]
    }
   ],
   "source": [
    "ols_df_edit = smf.ols('Total_AR ~ Income', data=df_edit).fit()\n",
    "print(ols_df_edit.summary())"
   ]
  },
  {
   "cell_type": "code",
   "execution_count": 96,
   "metadata": {
    "ExecuteTime": {
     "end_time": "2019-10-25T09:22:39.784825Z",
     "start_time": "2019-10-25T09:22:39.342953Z"
    }
   },
   "outputs": [],
   "source": [
    "ols_1_mc = smf.ols('number_of_component ~ year_since_1959', data=mc).fit()"
   ]
  },
  {
   "cell_type": "code",
   "execution_count": 99,
   "metadata": {
    "ExecuteTime": {
     "end_time": "2019-10-25T09:25:26.182111Z",
     "start_time": "2019-10-25T09:25:26.172140Z"
    }
   },
   "outputs": [
    {
     "name": "stdout",
     "output_type": "stream",
     "text": [
      "                             OLS Regression Results                            \n",
      "===============================================================================\n",
      "Dep. Variable:     number_of_component   R-squared:                       0.719\n",
      "Model:                             OLS   Adj. R-squared:                  0.626\n",
      "Method:                  Least Squares   F-statistic:                     7.688\n",
      "Date:                 Fri, 25 Oct 2019   Prob (F-statistic):             0.0694\n",
      "Time:                         16:25:26   Log-Likelihood:                -19.423\n",
      "No. Observations:                    5   AIC:                             42.85\n",
      "Df Residuals:                        3   BIC:                             42.06\n",
      "Df Model:                            1                                         \n",
      "Covariance Type:             nonrobust                                         \n",
      "===================================================================================\n",
      "                      coef    std err          t      P>|t|      [0.025      0.975]\n",
      "-----------------------------------------------------------------------------------\n",
      "Intercept          -8.9434     13.687     -0.653      0.560     -52.502      34.615\n",
      "year_since_1959     9.1509      3.300      2.773      0.069      -1.352      19.654\n",
      "==============================================================================\n",
      "Omnibus:                          nan   Durbin-Watson:                   1.642\n",
      "Prob(Omnibus):                    nan   Jarque-Bera (JB):                0.699\n",
      "Skew:                           0.515   Prob(JB):                        0.705\n",
      "Kurtosis:                       1.485   Cond. No.                         8.72\n",
      "==============================================================================\n",
      "\n",
      "Warnings:\n",
      "[1] Standard Errors assume that the covariance matrix of the errors is correctly specified.\n"
     ]
    },
    {
     "name": "stderr",
     "output_type": "stream",
     "text": [
      "D:\\Anaconda\\lib\\site-packages\\statsmodels\\stats\\stattools.py:72: ValueWarning: omni_normtest is not valid with less than 8 observations; 5 samples were given.\n",
      "  \"samples were given.\" % int(n), ValueWarning)\n"
     ]
    }
   ],
   "source": [
    "print(ols_1_mc.summary())"
   ]
  },
  {
   "cell_type": "markdown",
   "metadata": {},
   "source": [
    "### rmse from statsmodels"
   ]
  },
  {
   "cell_type": "code",
   "execution_count": 100,
   "metadata": {
    "ExecuteTime": {
     "end_time": "2019-10-25T09:26:55.562813Z",
     "start_time": "2019-10-25T09:26:55.199647Z"
    }
   },
   "outputs": [],
   "source": [
    "from statsmodels.tools.eval_measures import rmse"
   ]
  },
  {
   "cell_type": "code",
   "execution_count": 101,
   "metadata": {
    "ExecuteTime": {
     "end_time": "2019-10-25T09:28:24.393434Z",
     "start_time": "2019-10-25T09:28:24.383463Z"
    }
   },
   "outputs": [
    {
     "data": {
      "text/plain": [
       "11.770445880527003"
      ]
     },
     "execution_count": 101,
     "metadata": {},
     "output_type": "execute_result"
    }
   ],
   "source": [
    "rmse(mc.number_of_component, ols_1_mc.predict(mc.year_since_1959))"
   ]
  },
  {
   "cell_type": "code",
   "execution_count": 102,
   "metadata": {
    "ExecuteTime": {
     "end_time": "2019-10-25T09:29:13.138891Z",
     "start_time": "2019-10-25T09:29:13.127923Z"
    }
   },
   "outputs": [
    {
     "data": {
      "text/plain": [
       "88.26273035970209"
      ]
     },
     "execution_count": 102,
     "metadata": {},
     "output_type": "execute_result"
    }
   ],
   "source": [
    "rmse(df_edit.Total_AR, ols_df_edit.predict(df_edit.Income))"
   ]
  },
  {
   "cell_type": "code",
   "execution_count": 103,
   "metadata": {
    "ExecuteTime": {
     "end_time": "2019-10-25T09:31:50.795427Z",
     "start_time": "2019-10-25T09:31:50.418009Z"
    }
   },
   "outputs": [
    {
     "name": "stdout",
     "output_type": "stream",
     "text": [
      "                            OLS Regression Results                            \n",
      "==============================================================================\n",
      "Dep. Variable:               Total_AR   R-squared:                       0.886\n",
      "Model:                            OLS   Adj. R-squared:                  0.886\n",
      "Method:                 Least Squares   F-statistic:                 7.294e+04\n",
      "Date:                Fri, 25 Oct 2019   Prob (F-statistic):               0.00\n",
      "Time:                        16:31:50   Log-Likelihood:            -1.3629e+05\n",
      "No. Observations:               28293   AIC:                         2.726e+05\n",
      "Df Residuals:                   28289   BIC:                         2.726e+05\n",
      "Df Model:                           3                                         \n",
      "Covariance Type:            nonrobust                                         \n",
      "==============================================================================\n",
      "                 coef    std err          t      P>|t|      [0.025      0.975]\n",
      "------------------------------------------------------------------------------\n",
      "Intercept     26.5643      0.494     53.800      0.000      25.596      27.532\n",
      "Income        -0.0108      0.002     -7.010      0.000      -0.014      -0.008\n",
      "OTR            1.4240      0.003    465.456      0.000       1.418       1.430\n",
      "DP            -1.7357      0.006   -290.412      0.000      -1.747      -1.724\n",
      "==============================================================================\n",
      "Omnibus:                     1404.381   Durbin-Watson:                   1.415\n",
      "Prob(Omnibus):                  0.000   Jarque-Bera (JB):             3364.352\n",
      "Skew:                           0.302   Prob(JB):                         0.00\n",
      "Kurtosis:                       4.578   Cond. No.                         640.\n",
      "==============================================================================\n",
      "\n",
      "Warnings:\n",
      "[1] Standard Errors assume that the covariance matrix of the errors is correctly specified.\n"
     ]
    }
   ],
   "source": [
    "ols_df_edit = smf.ols('Total_AR ~ Income + OTR + DP', data=df_edit).fit()\n",
    "print(ols_df_edit.summary())"
   ]
  },
  {
   "cell_type": "code",
   "execution_count": null,
   "metadata": {},
   "outputs": [],
   "source": []
  }
 ],
 "metadata": {
  "kernelspec": {
   "display_name": "Python 3",
   "language": "python",
   "name": "python3"
  },
  "language_info": {
   "codemirror_mode": {
    "name": "ipython",
    "version": 3
   },
   "file_extension": ".py",
   "mimetype": "text/x-python",
   "name": "python",
   "nbconvert_exporter": "python",
   "pygments_lexer": "ipython3",
   "version": "3.7.3"
  },
  "toc": {
   "base_numbering": 1,
   "nav_menu": {},
   "number_sections": false,
   "sideBar": true,
   "skip_h1_title": false,
   "title_cell": "Table of Contents",
   "title_sidebar": "Contents",
   "toc_cell": false,
   "toc_position": {},
   "toc_section_display": true,
   "toc_window_display": false
  }
 },
 "nbformat": 4,
 "nbformat_minor": 2
}
